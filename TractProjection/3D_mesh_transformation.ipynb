{
 "cells": [
  {
   "cell_type": "markdown",
   "id": "2858e97c",
   "metadata": {},
   "source": [
    "## Remeshing Test"
   ]
  },
  {
   "cell_type": "code",
   "execution_count": 11,
   "id": "09af34cc",
   "metadata": {},
   "outputs": [
    {
     "name": "stdout",
     "output_type": "stream",
     "text": [
      "Requirement already satisfied: pyvista[jupyter] in c:\\users\\82707\\appdata\\local\\programs\\python\\python39\\lib\\site-packages (0.44.1)\n",
      "Requirement already satisfied: matplotlib>=3.0.1 in c:\\users\\82707\\appdata\\local\\programs\\python\\python39\\lib\\site-packages (from pyvista[jupyter]) (3.9.2)\n",
      "Requirement already satisfied: numpy>=1.21.0 in c:\\users\\82707\\appdata\\local\\programs\\python\\python39\\lib\\site-packages (from pyvista[jupyter]) (1.26.4)\n",
      "Requirement already satisfied: pillow in c:\\users\\82707\\appdata\\local\\programs\\python\\python39\\lib\\site-packages (from pyvista[jupyter]) (10.2.0)\n",
      "Requirement already satisfied: pooch in c:\\users\\82707\\appdata\\local\\programs\\python\\python39\\lib\\site-packages (from pyvista[jupyter]) (1.8.2)\n",
      "Requirement already satisfied: scooby>=0.5.1 in c:\\users\\82707\\appdata\\local\\programs\\python\\python39\\lib\\site-packages (from pyvista[jupyter]) (0.10.0)\n",
      "Requirement already satisfied: vtk in c:\\users\\82707\\appdata\\local\\programs\\python\\python39\\lib\\site-packages (from pyvista[jupyter]) (9.3.1)\n",
      "Requirement already satisfied: typing-extensions in c:\\users\\82707\\appdata\\local\\programs\\python\\python39\\lib\\site-packages (from pyvista[jupyter]) (4.12.2)\n",
      "Requirement already satisfied: ipywidgets in c:\\users\\82707\\appdata\\local\\programs\\python\\python39\\lib\\site-packages (from pyvista[jupyter]) (8.1.5)\n",
      "Requirement already satisfied: jupyter-server-proxy in c:\\users\\82707\\appdata\\local\\programs\\python\\python39\\lib\\site-packages (from pyvista[jupyter]) (4.4.0)\n",
      "Requirement already satisfied: nest-asyncio in c:\\users\\82707\\appdata\\roaming\\python\\python39\\site-packages (from pyvista[jupyter]) (1.6.0)\n",
      "Requirement already satisfied: trame>=2.5.2 in c:\\users\\82707\\appdata\\local\\programs\\python\\python39\\lib\\site-packages (from pyvista[jupyter]) (3.7.0)\n",
      "Requirement already satisfied: trame-client>=2.12.7 in c:\\users\\82707\\appdata\\local\\programs\\python\\python39\\lib\\site-packages (from pyvista[jupyter]) (3.4.0)\n",
      "Requirement already satisfied: trame-server>=2.11.7 in c:\\users\\82707\\appdata\\local\\programs\\python\\python39\\lib\\site-packages (from pyvista[jupyter]) (3.2.3)\n",
      "Requirement already satisfied: trame-vtk>=2.5.8 in c:\\users\\82707\\appdata\\local\\programs\\python\\python39\\lib\\site-packages (from pyvista[jupyter]) (2.8.11)\n",
      "Requirement already satisfied: trame-vuetify>=2.3.1 in c:\\users\\82707\\appdata\\local\\programs\\python\\python39\\lib\\site-packages (from pyvista[jupyter]) (2.7.1)\n",
      "Requirement already satisfied: contourpy>=1.0.1 in c:\\users\\82707\\appdata\\local\\programs\\python\\python39\\lib\\site-packages (from matplotlib>=3.0.1->pyvista[jupyter]) (1.3.0)\n",
      "Requirement already satisfied: cycler>=0.10 in c:\\users\\82707\\appdata\\local\\programs\\python\\python39\\lib\\site-packages (from matplotlib>=3.0.1->pyvista[jupyter]) (0.12.1)\n",
      "Requirement already satisfied: fonttools>=4.22.0 in c:\\users\\82707\\appdata\\local\\programs\\python\\python39\\lib\\site-packages (from matplotlib>=3.0.1->pyvista[jupyter]) (4.53.1)\n",
      "Requirement already satisfied: kiwisolver>=1.3.1 in c:\\users\\82707\\appdata\\local\\programs\\python\\python39\\lib\\site-packages (from matplotlib>=3.0.1->pyvista[jupyter]) (1.4.7)\n",
      "Requirement already satisfied: packaging>=20.0 in c:\\users\\82707\\appdata\\local\\programs\\python\\python39\\lib\\site-packages (from matplotlib>=3.0.1->pyvista[jupyter]) (24.1)\n",
      "Requirement already satisfied: pyparsing>=2.3.1 in c:\\users\\82707\\appdata\\local\\programs\\python\\python39\\lib\\site-packages (from matplotlib>=3.0.1->pyvista[jupyter]) (3.1.4)\n",
      "Requirement already satisfied: python-dateutil>=2.7 in c:\\users\\82707\\appdata\\local\\programs\\python\\python39\\lib\\site-packages (from matplotlib>=3.0.1->pyvista[jupyter]) (2.9.0.post0)\n",
      "Requirement already satisfied: importlib-resources>=3.2.0 in c:\\users\\82707\\appdata\\local\\programs\\python\\python39\\lib\\site-packages (from matplotlib>=3.0.1->pyvista[jupyter]) (6.4.5)\n",
      "Requirement already satisfied: wslink>=2.1.3 in c:\\users\\82707\\appdata\\local\\programs\\python\\python39\\lib\\site-packages (from trame>=2.5.2->pyvista[jupyter]) (2.2.1)\n",
      "Requirement already satisfied: more-itertools in c:\\users\\82707\\appdata\\local\\programs\\python\\python39\\lib\\site-packages (from trame-server>=2.11.7->pyvista[jupyter]) (10.5.0)\n",
      "Requirement already satisfied: comm>=0.1.3 in c:\\users\\82707\\appdata\\roaming\\python\\python39\\site-packages (from ipywidgets->pyvista[jupyter]) (0.2.2)\n",
      "Requirement already satisfied: ipython>=6.1.0 in c:\\users\\82707\\appdata\\roaming\\python\\python39\\site-packages (from ipywidgets->pyvista[jupyter]) (8.18.1)\n",
      "Requirement already satisfied: traitlets>=4.3.1 in c:\\users\\82707\\appdata\\roaming\\python\\python39\\site-packages (from ipywidgets->pyvista[jupyter]) (5.14.3)\n",
      "Requirement already satisfied: widgetsnbextension~=4.0.12 in c:\\users\\82707\\appdata\\local\\programs\\python\\python39\\lib\\site-packages (from ipywidgets->pyvista[jupyter]) (4.0.13)\n",
      "Requirement already satisfied: jupyterlab-widgets~=3.0.12 in c:\\users\\82707\\appdata\\local\\programs\\python\\python39\\lib\\site-packages (from ipywidgets->pyvista[jupyter]) (3.0.13)\n",
      "Requirement already satisfied: aiohttp in c:\\users\\82707\\appdata\\local\\programs\\python\\python39\\lib\\site-packages (from jupyter-server-proxy->pyvista[jupyter]) (3.10.10)\n",
      "Requirement already satisfied: importlib-metadata>=4.8.3 in c:\\users\\82707\\appdata\\local\\programs\\python\\python39\\lib\\site-packages (from jupyter-server-proxy->pyvista[jupyter]) (8.5.0)\n",
      "Requirement already satisfied: jupyter-server>=1.24.0 in c:\\users\\82707\\appdata\\local\\programs\\python\\python39\\lib\\site-packages (from jupyter-server-proxy->pyvista[jupyter]) (2.14.2)\n",
      "Requirement already satisfied: simpervisor>=1.0.0 in c:\\users\\82707\\appdata\\local\\programs\\python\\python39\\lib\\site-packages (from jupyter-server-proxy->pyvista[jupyter]) (1.0.0)\n",
      "Requirement already satisfied: tornado>=6.1.0 in c:\\users\\82707\\appdata\\roaming\\python\\python39\\site-packages (from jupyter-server-proxy->pyvista[jupyter]) (6.4.1)\n",
      "Requirement already satisfied: platformdirs>=2.5.0 in c:\\users\\82707\\appdata\\roaming\\python\\python39\\site-packages (from pooch->pyvista[jupyter]) (4.3.6)\n",
      "Requirement already satisfied: requests>=2.19.0 in c:\\users\\82707\\appdata\\local\\programs\\python\\python39\\lib\\site-packages (from pooch->pyvista[jupyter]) (2.32.3)\n",
      "Requirement already satisfied: zipp>=3.20 in c:\\users\\82707\\appdata\\local\\programs\\python\\python39\\lib\\site-packages (from importlib-metadata>=4.8.3->jupyter-server-proxy->pyvista[jupyter]) (3.20.2)\n",
      "Requirement already satisfied: decorator in c:\\users\\82707\\appdata\\roaming\\python\\python39\\site-packages (from ipython>=6.1.0->ipywidgets->pyvista[jupyter]) (5.1.1)\n",
      "Requirement already satisfied: jedi>=0.16 in c:\\users\\82707\\appdata\\roaming\\python\\python39\\site-packages (from ipython>=6.1.0->ipywidgets->pyvista[jupyter]) (0.19.1)\n",
      "Requirement already satisfied: matplotlib-inline in c:\\users\\82707\\appdata\\roaming\\python\\python39\\site-packages (from ipython>=6.1.0->ipywidgets->pyvista[jupyter]) (0.1.7)\n",
      "Requirement already satisfied: prompt-toolkit<3.1.0,>=3.0.41 in c:\\users\\82707\\appdata\\roaming\\python\\python39\\site-packages (from ipython>=6.1.0->ipywidgets->pyvista[jupyter]) (3.0.47)\n",
      "Requirement already satisfied: pygments>=2.4.0 in c:\\users\\82707\\appdata\\roaming\\python\\python39\\site-packages (from ipython>=6.1.0->ipywidgets->pyvista[jupyter]) (2.18.0)\n",
      "Requirement already satisfied: stack-data in c:\\users\\82707\\appdata\\roaming\\python\\python39\\site-packages (from ipython>=6.1.0->ipywidgets->pyvista[jupyter]) (0.6.3)\n",
      "Requirement already satisfied: exceptiongroup in c:\\users\\82707\\appdata\\roaming\\python\\python39\\site-packages (from ipython>=6.1.0->ipywidgets->pyvista[jupyter]) (1.2.2)\n",
      "Requirement already satisfied: colorama in c:\\users\\82707\\appdata\\roaming\\python\\python39\\site-packages (from ipython>=6.1.0->ipywidgets->pyvista[jupyter]) (0.4.6)\n",
      "Requirement already satisfied: anyio>=3.1.0 in c:\\users\\82707\\appdata\\local\\programs\\python\\python39\\lib\\site-packages (from jupyter-server>=1.24.0->jupyter-server-proxy->pyvista[jupyter]) (4.6.0)\n",
      "Requirement already satisfied: argon2-cffi>=21.1 in c:\\users\\82707\\appdata\\local\\programs\\python\\python39\\lib\\site-packages (from jupyter-server>=1.24.0->jupyter-server-proxy->pyvista[jupyter]) (23.1.0)\n",
      "Requirement already satisfied: jinja2>=3.0.3 in c:\\users\\82707\\appdata\\local\\programs\\python\\python39\\lib\\site-packages (from jupyter-server>=1.24.0->jupyter-server-proxy->pyvista[jupyter]) (3.1.3)\n",
      "Requirement already satisfied: jupyter-client>=7.4.4 in c:\\users\\82707\\appdata\\roaming\\python\\python39\\site-packages (from jupyter-server>=1.24.0->jupyter-server-proxy->pyvista[jupyter]) (8.6.3)\n",
      "Requirement already satisfied: jupyter-core!=5.0.*,>=4.12 in c:\\users\\82707\\appdata\\roaming\\python\\python39\\site-packages (from jupyter-server>=1.24.0->jupyter-server-proxy->pyvista[jupyter]) (5.7.2)\n",
      "Requirement already satisfied: jupyter-events>=0.9.0 in c:\\users\\82707\\appdata\\local\\programs\\python\\python39\\lib\\site-packages (from jupyter-server>=1.24.0->jupyter-server-proxy->pyvista[jupyter]) (0.10.0)\n",
      "Requirement already satisfied: jupyter-server-terminals>=0.4.4 in c:\\users\\82707\\appdata\\local\\programs\\python\\python39\\lib\\site-packages (from jupyter-server>=1.24.0->jupyter-server-proxy->pyvista[jupyter]) (0.5.3)\n",
      "Requirement already satisfied: nbconvert>=6.4.4 in c:\\users\\82707\\appdata\\local\\programs\\python\\python39\\lib\\site-packages (from jupyter-server>=1.24.0->jupyter-server-proxy->pyvista[jupyter]) (7.16.4)\n",
      "Requirement already satisfied: nbformat>=5.3.0 in c:\\users\\82707\\appdata\\local\\programs\\python\\python39\\lib\\site-packages (from jupyter-server>=1.24.0->jupyter-server-proxy->pyvista[jupyter]) (5.10.4)\n",
      "Requirement already satisfied: overrides>=5.0 in c:\\users\\82707\\appdata\\local\\programs\\python\\python39\\lib\\site-packages (from jupyter-server>=1.24.0->jupyter-server-proxy->pyvista[jupyter]) (7.7.0)\n",
      "Requirement already satisfied: prometheus-client>=0.9 in c:\\users\\82707\\appdata\\local\\programs\\python\\python39\\lib\\site-packages (from jupyter-server>=1.24.0->jupyter-server-proxy->pyvista[jupyter]) (0.21.0)\n",
      "Requirement already satisfied: pywinpty>=2.0.1 in c:\\users\\82707\\appdata\\local\\programs\\python\\python39\\lib\\site-packages (from jupyter-server>=1.24.0->jupyter-server-proxy->pyvista[jupyter]) (2.0.13)\n",
      "Requirement already satisfied: pyzmq>=24 in c:\\users\\82707\\appdata\\roaming\\python\\python39\\site-packages (from jupyter-server>=1.24.0->jupyter-server-proxy->pyvista[jupyter]) (26.2.0)\n",
      "Requirement already satisfied: send2trash>=1.8.2 in c:\\users\\82707\\appdata\\local\\programs\\python\\python39\\lib\\site-packages (from jupyter-server>=1.24.0->jupyter-server-proxy->pyvista[jupyter]) (1.8.3)\n",
      "Requirement already satisfied: terminado>=0.8.3 in c:\\users\\82707\\appdata\\local\\programs\\python\\python39\\lib\\site-packages (from jupyter-server>=1.24.0->jupyter-server-proxy->pyvista[jupyter]) (0.18.1)\n",
      "Requirement already satisfied: websocket-client>=1.7 in c:\\users\\82707\\appdata\\local\\programs\\python\\python39\\lib\\site-packages (from jupyter-server>=1.24.0->jupyter-server-proxy->pyvista[jupyter]) (1.8.0)\n",
      "Requirement already satisfied: six>=1.5 in c:\\users\\82707\\appdata\\local\\programs\\python\\python39\\lib\\site-packages (from python-dateutil>=2.7->matplotlib>=3.0.1->pyvista[jupyter]) (1.16.0)\n",
      "Requirement already satisfied: charset-normalizer<4,>=2 in c:\\users\\82707\\appdata\\local\\programs\\python\\python39\\lib\\site-packages (from requests>=2.19.0->pooch->pyvista[jupyter]) (3.3.2)\n",
      "Requirement already satisfied: idna<4,>=2.5 in c:\\users\\82707\\appdata\\local\\programs\\python\\python39\\lib\\site-packages (from requests>=2.19.0->pooch->pyvista[jupyter]) (3.9)\n",
      "Requirement already satisfied: urllib3<3,>=1.21.1 in c:\\users\\82707\\appdata\\local\\programs\\python\\python39\\lib\\site-packages (from requests>=2.19.0->pooch->pyvista[jupyter]) (2.2.3)\n",
      "Requirement already satisfied: certifi>=2017.4.17 in c:\\users\\82707\\appdata\\local\\programs\\python\\python39\\lib\\site-packages (from requests>=2.19.0->pooch->pyvista[jupyter]) (2024.8.30)\n",
      "Requirement already satisfied: msgpack<2,>=1 in c:\\users\\82707\\appdata\\local\\programs\\python\\python39\\lib\\site-packages (from wslink>=2.1.3->trame>=2.5.2->pyvista[jupyter]) (1.1.0)\n",
      "Requirement already satisfied: aiohappyeyeballs>=2.3.0 in c:\\users\\82707\\appdata\\local\\programs\\python\\python39\\lib\\site-packages (from aiohttp->jupyter-server-proxy->pyvista[jupyter]) (2.4.3)\n",
      "Requirement already satisfied: aiosignal>=1.1.2 in c:\\users\\82707\\appdata\\local\\programs\\python\\python39\\lib\\site-packages (from aiohttp->jupyter-server-proxy->pyvista[jupyter]) (1.3.1)\n",
      "Requirement already satisfied: attrs>=17.3.0 in c:\\users\\82707\\appdata\\local\\programs\\python\\python39\\lib\\site-packages (from aiohttp->jupyter-server-proxy->pyvista[jupyter]) (24.2.0)\n",
      "Requirement already satisfied: frozenlist>=1.1.1 in c:\\users\\82707\\appdata\\local\\programs\\python\\python39\\lib\\site-packages (from aiohttp->jupyter-server-proxy->pyvista[jupyter]) (1.5.0)\n",
      "Requirement already satisfied: multidict<7.0,>=4.5 in c:\\users\\82707\\appdata\\local\\programs\\python\\python39\\lib\\site-packages (from aiohttp->jupyter-server-proxy->pyvista[jupyter]) (6.1.0)\n",
      "Requirement already satisfied: yarl<2.0,>=1.12.0 in c:\\users\\82707\\appdata\\local\\programs\\python\\python39\\lib\\site-packages (from aiohttp->jupyter-server-proxy->pyvista[jupyter]) (1.17.1)\n",
      "Requirement already satisfied: async-timeout<5.0,>=4.0 in c:\\users\\82707\\appdata\\local\\programs\\python\\python39\\lib\\site-packages (from aiohttp->jupyter-server-proxy->pyvista[jupyter]) (4.0.3)\n",
      "Requirement already satisfied: sniffio>=1.1 in c:\\users\\82707\\appdata\\local\\programs\\python\\python39\\lib\\site-packages (from anyio>=3.1.0->jupyter-server>=1.24.0->jupyter-server-proxy->pyvista[jupyter]) (1.3.1)\n",
      "Requirement already satisfied: argon2-cffi-bindings in c:\\users\\82707\\appdata\\local\\programs\\python\\python39\\lib\\site-packages (from argon2-cffi>=21.1->jupyter-server>=1.24.0->jupyter-server-proxy->pyvista[jupyter]) (21.2.0)\n",
      "Requirement already satisfied: parso<0.9.0,>=0.8.3 in c:\\users\\82707\\appdata\\roaming\\python\\python39\\site-packages (from jedi>=0.16->ipython>=6.1.0->ipywidgets->pyvista[jupyter]) (0.8.4)\n",
      "Requirement already satisfied: MarkupSafe>=2.0 in c:\\users\\82707\\appdata\\local\\programs\\python\\python39\\lib\\site-packages (from jinja2>=3.0.3->jupyter-server>=1.24.0->jupyter-server-proxy->pyvista[jupyter]) (2.1.5)\n",
      "Requirement already satisfied: pywin32>=300 in c:\\users\\82707\\appdata\\roaming\\python\\python39\\site-packages (from jupyter-core!=5.0.*,>=4.12->jupyter-server>=1.24.0->jupyter-server-proxy->pyvista[jupyter]) (306)\n",
      "Requirement already satisfied: jsonschema>=4.18.0 in c:\\users\\82707\\appdata\\local\\programs\\python\\python39\\lib\\site-packages (from jsonschema[format-nongpl]>=4.18.0->jupyter-events>=0.9.0->jupyter-server>=1.24.0->jupyter-server-proxy->pyvista[jupyter]) (4.23.0)\n",
      "Requirement already satisfied: python-json-logger>=2.0.4 in c:\\users\\82707\\appdata\\local\\programs\\python\\python39\\lib\\site-packages (from jupyter-events>=0.9.0->jupyter-server>=1.24.0->jupyter-server-proxy->pyvista[jupyter]) (2.0.7)\n",
      "Requirement already satisfied: pyyaml>=5.3 in c:\\users\\82707\\appdata\\local\\programs\\python\\python39\\lib\\site-packages (from jupyter-events>=0.9.0->jupyter-server>=1.24.0->jupyter-server-proxy->pyvista[jupyter]) (6.0.2)\n",
      "Requirement already satisfied: referencing in c:\\users\\82707\\appdata\\local\\programs\\python\\python39\\lib\\site-packages (from jupyter-events>=0.9.0->jupyter-server>=1.24.0->jupyter-server-proxy->pyvista[jupyter]) (0.35.1)\n",
      "Requirement already satisfied: rfc3339-validator in c:\\users\\82707\\appdata\\local\\programs\\python\\python39\\lib\\site-packages (from jupyter-events>=0.9.0->jupyter-server>=1.24.0->jupyter-server-proxy->pyvista[jupyter]) (0.1.4)\n",
      "Requirement already satisfied: rfc3986-validator>=0.1.1 in c:\\users\\82707\\appdata\\local\\programs\\python\\python39\\lib\\site-packages (from jupyter-events>=0.9.0->jupyter-server>=1.24.0->jupyter-server-proxy->pyvista[jupyter]) (0.1.1)\n",
      "Requirement already satisfied: beautifulsoup4 in c:\\users\\82707\\appdata\\local\\programs\\python\\python39\\lib\\site-packages (from nbconvert>=6.4.4->jupyter-server>=1.24.0->jupyter-server-proxy->pyvista[jupyter]) (4.12.3)\n",
      "Requirement already satisfied: bleach!=5.0.0 in c:\\users\\82707\\appdata\\local\\programs\\python\\python39\\lib\\site-packages (from nbconvert>=6.4.4->jupyter-server>=1.24.0->jupyter-server-proxy->pyvista[jupyter]) (6.1.0)\n",
      "Requirement already satisfied: defusedxml in c:\\users\\82707\\appdata\\local\\programs\\python\\python39\\lib\\site-packages (from nbconvert>=6.4.4->jupyter-server>=1.24.0->jupyter-server-proxy->pyvista[jupyter]) (0.7.1)\n",
      "Requirement already satisfied: jupyterlab-pygments in c:\\users\\82707\\appdata\\local\\programs\\python\\python39\\lib\\site-packages (from nbconvert>=6.4.4->jupyter-server>=1.24.0->jupyter-server-proxy->pyvista[jupyter]) (0.3.0)\n",
      "Requirement already satisfied: mistune<4,>=2.0.3 in c:\\users\\82707\\appdata\\local\\programs\\python\\python39\\lib\\site-packages (from nbconvert>=6.4.4->jupyter-server>=1.24.0->jupyter-server-proxy->pyvista[jupyter]) (3.0.2)\n",
      "Requirement already satisfied: nbclient>=0.5.0 in c:\\users\\82707\\appdata\\local\\programs\\python\\python39\\lib\\site-packages (from nbconvert>=6.4.4->jupyter-server>=1.24.0->jupyter-server-proxy->pyvista[jupyter]) (0.10.0)\n",
      "Requirement already satisfied: pandocfilters>=1.4.1 in c:\\users\\82707\\appdata\\local\\programs\\python\\python39\\lib\\site-packages (from nbconvert>=6.4.4->jupyter-server>=1.24.0->jupyter-server-proxy->pyvista[jupyter]) (1.5.1)\n",
      "Requirement already satisfied: tinycss2 in c:\\users\\82707\\appdata\\local\\programs\\python\\python39\\lib\\site-packages (from nbconvert>=6.4.4->jupyter-server>=1.24.0->jupyter-server-proxy->pyvista[jupyter]) (1.3.0)\n",
      "Requirement already satisfied: fastjsonschema>=2.15 in c:\\users\\82707\\appdata\\local\\programs\\python\\python39\\lib\\site-packages (from nbformat>=5.3.0->jupyter-server>=1.24.0->jupyter-server-proxy->pyvista[jupyter]) (2.20.0)\n",
      "Requirement already satisfied: wcwidth in c:\\users\\82707\\appdata\\roaming\\python\\python39\\site-packages (from prompt-toolkit<3.1.0,>=3.0.41->ipython>=6.1.0->ipywidgets->pyvista[jupyter]) (0.2.13)\n",
      "Requirement already satisfied: propcache>=0.2.0 in c:\\users\\82707\\appdata\\local\\programs\\python\\python39\\lib\\site-packages (from yarl<2.0,>=1.12.0->aiohttp->jupyter-server-proxy->pyvista[jupyter]) (0.2.0)\n",
      "Requirement already satisfied: executing>=1.2.0 in c:\\users\\82707\\appdata\\roaming\\python\\python39\\site-packages (from stack-data->ipython>=6.1.0->ipywidgets->pyvista[jupyter]) (2.1.0)\n",
      "Requirement already satisfied: asttokens>=2.1.0 in c:\\users\\82707\\appdata\\roaming\\python\\python39\\site-packages (from stack-data->ipython>=6.1.0->ipywidgets->pyvista[jupyter]) (2.4.1)\n",
      "Requirement already satisfied: pure-eval in c:\\users\\82707\\appdata\\roaming\\python\\python39\\site-packages (from stack-data->ipython>=6.1.0->ipywidgets->pyvista[jupyter]) (0.2.3)\n",
      "Requirement already satisfied: webencodings in c:\\users\\82707\\appdata\\local\\programs\\python\\python39\\lib\\site-packages (from bleach!=5.0.0->nbconvert>=6.4.4->jupyter-server>=1.24.0->jupyter-server-proxy->pyvista[jupyter]) (0.5.1)\n",
      "Requirement already satisfied: jsonschema-specifications>=2023.03.6 in c:\\users\\82707\\appdata\\local\\programs\\python\\python39\\lib\\site-packages (from jsonschema>=4.18.0->jsonschema[format-nongpl]>=4.18.0->jupyter-events>=0.9.0->jupyter-server>=1.24.0->jupyter-server-proxy->pyvista[jupyter]) (2023.12.1)\n",
      "Requirement already satisfied: rpds-py>=0.7.1 in c:\\users\\82707\\appdata\\local\\programs\\python\\python39\\lib\\site-packages (from jsonschema>=4.18.0->jsonschema[format-nongpl]>=4.18.0->jupyter-events>=0.9.0->jupyter-server>=1.24.0->jupyter-server-proxy->pyvista[jupyter]) (0.20.0)\n",
      "Requirement already satisfied: fqdn in c:\\users\\82707\\appdata\\local\\programs\\python\\python39\\lib\\site-packages (from jsonschema[format-nongpl]>=4.18.0->jupyter-events>=0.9.0->jupyter-server>=1.24.0->jupyter-server-proxy->pyvista[jupyter]) (1.5.1)\n",
      "Requirement already satisfied: isoduration in c:\\users\\82707\\appdata\\local\\programs\\python\\python39\\lib\\site-packages (from jsonschema[format-nongpl]>=4.18.0->jupyter-events>=0.9.0->jupyter-server>=1.24.0->jupyter-server-proxy->pyvista[jupyter]) (20.11.0)\n",
      "Requirement already satisfied: jsonpointer>1.13 in c:\\users\\82707\\appdata\\local\\programs\\python\\python39\\lib\\site-packages (from jsonschema[format-nongpl]>=4.18.0->jupyter-events>=0.9.0->jupyter-server>=1.24.0->jupyter-server-proxy->pyvista[jupyter]) (3.0.0)\n",
      "Requirement already satisfied: uri-template in c:\\users\\82707\\appdata\\local\\programs\\python\\python39\\lib\\site-packages (from jsonschema[format-nongpl]>=4.18.0->jupyter-events>=0.9.0->jupyter-server>=1.24.0->jupyter-server-proxy->pyvista[jupyter]) (1.3.0)\n",
      "Requirement already satisfied: webcolors>=24.6.0 in c:\\users\\82707\\appdata\\local\\programs\\python\\python39\\lib\\site-packages (from jsonschema[format-nongpl]>=4.18.0->jupyter-events>=0.9.0->jupyter-server>=1.24.0->jupyter-server-proxy->pyvista[jupyter]) (24.8.0)\n",
      "Requirement already satisfied: cffi>=1.0.1 in c:\\users\\82707\\appdata\\local\\programs\\python\\python39\\lib\\site-packages (from argon2-cffi-bindings->argon2-cffi>=21.1->jupyter-server>=1.24.0->jupyter-server-proxy->pyvista[jupyter]) (1.17.1)\n",
      "Requirement already satisfied: soupsieve>1.2 in c:\\users\\82707\\appdata\\local\\programs\\python\\python39\\lib\\site-packages (from beautifulsoup4->nbconvert>=6.4.4->jupyter-server>=1.24.0->jupyter-server-proxy->pyvista[jupyter]) (2.6)\n",
      "Requirement already satisfied: pycparser in c:\\users\\82707\\appdata\\local\\programs\\python\\python39\\lib\\site-packages (from cffi>=1.0.1->argon2-cffi-bindings->argon2-cffi>=21.1->jupyter-server>=1.24.0->jupyter-server-proxy->pyvista[jupyter]) (2.22)\n",
      "Requirement already satisfied: arrow>=0.15.0 in c:\\users\\82707\\appdata\\local\\programs\\python\\python39\\lib\\site-packages (from isoduration->jsonschema[format-nongpl]>=4.18.0->jupyter-events>=0.9.0->jupyter-server>=1.24.0->jupyter-server-proxy->pyvista[jupyter]) (1.3.0)\n",
      "Requirement already satisfied: types-python-dateutil>=2.8.10 in c:\\users\\82707\\appdata\\local\\programs\\python\\python39\\lib\\site-packages (from arrow>=0.15.0->isoduration->jsonschema[format-nongpl]>=4.18.0->jupyter-events>=0.9.0->jupyter-server>=1.24.0->jupyter-server-proxy->pyvista[jupyter]) (2.9.0.20240906)\n"
     ]
    },
    {
     "name": "stderr",
     "output_type": "stream",
     "text": [
      "WARNING: Ignoring invalid distribution - (c:\\users\\82707\\appdata\\local\\programs\\python\\python39\\lib\\site-packages)\n",
      "WARNING: Ignoring invalid distribution -rotobuf (c:\\users\\82707\\appdata\\local\\programs\\python\\python39\\lib\\site-packages)\n",
      "WARNING: Ignoring invalid distribution - (c:\\users\\82707\\appdata\\local\\programs\\python\\python39\\lib\\site-packages)\n",
      "WARNING: Ignoring invalid distribution -rotobuf (c:\\users\\82707\\appdata\\local\\programs\\python\\python39\\lib\\site-packages)\n",
      "WARNING: Ignoring invalid distribution - (c:\\users\\82707\\appdata\\local\\programs\\python\\python39\\lib\\site-packages)\n",
      "WARNING: Ignoring invalid distribution -rotobuf (c:\\users\\82707\\appdata\\local\\programs\\python\\python39\\lib\\site-packages)\n",
      "\n",
      "[notice] A new release of pip is available: 21.1.3 -> 24.3.1\n",
      "[notice] To update, run: C:\\Users\\82707\\AppData\\Local\\Programs\\Python\\Python39\\python.exe -m pip install --upgrade pip\n"
     ]
    },
    {
     "name": "stdout",
     "output_type": "stream",
     "text": [
      "Requirement already satisfied: pyacvd in c:\\users\\82707\\appdata\\local\\programs\\python\\python39\\lib\\site-packages (0.3.1)\n",
      "Requirement already satisfied: numpy in c:\\users\\82707\\appdata\\local\\programs\\python\\python39\\lib\\site-packages (from pyacvd) (1.26.4)\n",
      "Requirement already satisfied: pyvista>=0.37.0 in c:\\users\\82707\\appdata\\local\\programs\\python\\python39\\lib\\site-packages (from pyacvd) (0.44.1)\n",
      "Requirement already satisfied: pykdtree in c:\\users\\82707\\appdata\\local\\programs\\python\\python39\\lib\\site-packages (from pyacvd) (1.3.13)\n",
      "Requirement already satisfied: matplotlib>=3.0.1 in c:\\users\\82707\\appdata\\local\\programs\\python\\python39\\lib\\site-packages (from pyvista>=0.37.0->pyacvd) (3.9.2)\n",
      "Requirement already satisfied: pillow in c:\\users\\82707\\appdata\\local\\programs\\python\\python39\\lib\\site-packages (from pyvista>=0.37.0->pyacvd) (10.2.0)\n",
      "Requirement already satisfied: pooch in c:\\users\\82707\\appdata\\local\\programs\\python\\python39\\lib\\site-packages (from pyvista>=0.37.0->pyacvd) (1.8.2)\n",
      "Requirement already satisfied: scooby>=0.5.1 in c:\\users\\82707\\appdata\\local\\programs\\python\\python39\\lib\\site-packages (from pyvista>=0.37.0->pyacvd) (0.10.0)\n",
      "Requirement already satisfied: vtk in c:\\users\\82707\\appdata\\local\\programs\\python\\python39\\lib\\site-packages (from pyvista>=0.37.0->pyacvd) (9.3.1)\n",
      "Requirement already satisfied: typing-extensions in c:\\users\\82707\\appdata\\local\\programs\\python\\python39\\lib\\site-packages (from pyvista>=0.37.0->pyacvd) (4.12.2)\n",
      "Requirement already satisfied: contourpy>=1.0.1 in c:\\users\\82707\\appdata\\local\\programs\\python\\python39\\lib\\site-packages (from matplotlib>=3.0.1->pyvista>=0.37.0->pyacvd) (1.3.0)\n",
      "Requirement already satisfied: cycler>=0.10 in c:\\users\\82707\\appdata\\local\\programs\\python\\python39\\lib\\site-packages (from matplotlib>=3.0.1->pyvista>=0.37.0->pyacvd) (0.12.1)\n",
      "Requirement already satisfied: fonttools>=4.22.0 in c:\\users\\82707\\appdata\\local\\programs\\python\\python39\\lib\\site-packages (from matplotlib>=3.0.1->pyvista>=0.37.0->pyacvd) (4.53.1)\n",
      "Requirement already satisfied: kiwisolver>=1.3.1 in c:\\users\\82707\\appdata\\local\\programs\\python\\python39\\lib\\site-packages (from matplotlib>=3.0.1->pyvista>=0.37.0->pyacvd) (1.4.7)\n",
      "Requirement already satisfied: packaging>=20.0 in c:\\users\\82707\\appdata\\local\\programs\\python\\python39\\lib\\site-packages (from matplotlib>=3.0.1->pyvista>=0.37.0->pyacvd) (24.1)\n",
      "Requirement already satisfied: pyparsing>=2.3.1 in c:\\users\\82707\\appdata\\local\\programs\\python\\python39\\lib\\site-packages (from matplotlib>=3.0.1->pyvista>=0.37.0->pyacvd) (3.1.4)\n",
      "Requirement already satisfied: python-dateutil>=2.7 in c:\\users\\82707\\appdata\\local\\programs\\python\\python39\\lib\\site-packages (from matplotlib>=3.0.1->pyvista>=0.37.0->pyacvd) (2.9.0.post0)\n",
      "Requirement already satisfied: importlib-resources>=3.2.0 in c:\\users\\82707\\appdata\\local\\programs\\python\\python39\\lib\\site-packages (from matplotlib>=3.0.1->pyvista>=0.37.0->pyacvd) (6.4.5)\n",
      "Requirement already satisfied: platformdirs>=2.5.0 in c:\\users\\82707\\appdata\\roaming\\python\\python39\\site-packages (from pooch->pyvista>=0.37.0->pyacvd) (4.3.6)\n",
      "Requirement already satisfied: requests>=2.19.0 in c:\\users\\82707\\appdata\\local\\programs\\python\\python39\\lib\\site-packages (from pooch->pyvista>=0.37.0->pyacvd) (2.32.3)\n",
      "Requirement already satisfied: zipp>=3.1.0 in c:\\users\\82707\\appdata\\local\\programs\\python\\python39\\lib\\site-packages (from importlib-resources>=3.2.0->matplotlib>=3.0.1->pyvista>=0.37.0->pyacvd) (3.20.2)\n",
      "Requirement already satisfied: six>=1.5 in c:\\users\\82707\\appdata\\local\\programs\\python\\python39\\lib\\site-packages (from python-dateutil>=2.7->matplotlib>=3.0.1->pyvista>=0.37.0->pyacvd) (1.16.0)\n",
      "Requirement already satisfied: charset-normalizer<4,>=2 in c:\\users\\82707\\appdata\\local\\programs\\python\\python39\\lib\\site-packages (from requests>=2.19.0->pooch->pyvista>=0.37.0->pyacvd) (3.3.2)\n",
      "Requirement already satisfied: idna<4,>=2.5 in c:\\users\\82707\\appdata\\local\\programs\\python\\python39\\lib\\site-packages (from requests>=2.19.0->pooch->pyvista>=0.37.0->pyacvd) (3.9)\n",
      "Requirement already satisfied: urllib3<3,>=1.21.1 in c:\\users\\82707\\appdata\\local\\programs\\python\\python39\\lib\\site-packages (from requests>=2.19.0->pooch->pyvista>=0.37.0->pyacvd) (2.2.3)\n",
      "Requirement already satisfied: certifi>=2017.4.17 in c:\\users\\82707\\appdata\\local\\programs\\python\\python39\\lib\\site-packages (from requests>=2.19.0->pooch->pyvista>=0.37.0->pyacvd) (2024.8.30)\n"
     ]
    },
    {
     "name": "stderr",
     "output_type": "stream",
     "text": [
      "WARNING: Ignoring invalid distribution - (c:\\users\\82707\\appdata\\local\\programs\\python\\python39\\lib\\site-packages)\n",
      "WARNING: Ignoring invalid distribution -rotobuf (c:\\users\\82707\\appdata\\local\\programs\\python\\python39\\lib\\site-packages)\n",
      "WARNING: Ignoring invalid distribution - (c:\\users\\82707\\appdata\\local\\programs\\python\\python39\\lib\\site-packages)\n",
      "WARNING: Ignoring invalid distribution -rotobuf (c:\\users\\82707\\appdata\\local\\programs\\python\\python39\\lib\\site-packages)\n",
      "WARNING: Ignoring invalid distribution - (c:\\users\\82707\\appdata\\local\\programs\\python\\python39\\lib\\site-packages)\n",
      "WARNING: Ignoring invalid distribution -rotobuf (c:\\users\\82707\\appdata\\local\\programs\\python\\python39\\lib\\site-packages)\n",
      "\n",
      "[notice] A new release of pip is available: 21.1.3 -> 24.3.1\n",
      "[notice] To update, run: C:\\Users\\82707\\AppData\\Local\\Programs\\Python\\Python39\\python.exe -m pip install --upgrade pip\n"
     ]
    },
    {
     "name": "stdout",
     "output_type": "stream",
     "text": [
      "Requirement already satisfied: meshio in c:\\users\\82707\\appdata\\local\\programs\\python\\python39\\lib\\site-packages (5.3.5)\n",
      "Requirement already satisfied: numpy>=1.20.0 in c:\\users\\82707\\appdata\\local\\programs\\python\\python39\\lib\\site-packages (from meshio) (1.26.4)\n",
      "Requirement already satisfied: rich in c:\\users\\82707\\appdata\\local\\programs\\python\\python39\\lib\\site-packages (from meshio) (13.9.4)\n",
      "Requirement already satisfied: markdown-it-py>=2.2.0 in c:\\users\\82707\\appdata\\local\\programs\\python\\python39\\lib\\site-packages (from rich->meshio) (3.0.0)\n",
      "Requirement already satisfied: pygments<3.0.0,>=2.13.0 in c:\\users\\82707\\appdata\\roaming\\python\\python39\\site-packages (from rich->meshio) (2.18.0)\n",
      "Requirement already satisfied: typing-extensions<5.0,>=4.0.0 in c:\\users\\82707\\appdata\\local\\programs\\python\\python39\\lib\\site-packages (from rich->meshio) (4.12.2)\n",
      "Requirement already satisfied: mdurl~=0.1 in c:\\users\\82707\\appdata\\local\\programs\\python\\python39\\lib\\site-packages (from markdown-it-py>=2.2.0->rich->meshio) (0.1.2)\n"
     ]
    },
    {
     "name": "stderr",
     "output_type": "stream",
     "text": [
      "WARNING: Ignoring invalid distribution - (c:\\users\\82707\\appdata\\local\\programs\\python\\python39\\lib\\site-packages)\n",
      "WARNING: Ignoring invalid distribution -rotobuf (c:\\users\\82707\\appdata\\local\\programs\\python\\python39\\lib\\site-packages)\n",
      "WARNING: Ignoring invalid distribution - (c:\\users\\82707\\appdata\\local\\programs\\python\\python39\\lib\\site-packages)\n",
      "WARNING: Ignoring invalid distribution -rotobuf (c:\\users\\82707\\appdata\\local\\programs\\python\\python39\\lib\\site-packages)\n",
      "WARNING: Ignoring invalid distribution - (c:\\users\\82707\\appdata\\local\\programs\\python\\python39\\lib\\site-packages)\n",
      "WARNING: Ignoring invalid distribution -rotobuf (c:\\users\\82707\\appdata\\local\\programs\\python\\python39\\lib\\site-packages)\n",
      "\n",
      "[notice] A new release of pip is available: 21.1.3 -> 24.3.1\n",
      "[notice] To update, run: C:\\Users\\82707\\AppData\\Local\\Programs\\Python\\Python39\\python.exe -m pip install --upgrade pip\n"
     ]
    },
    {
     "name": "stdout",
     "output_type": "stream",
     "text": [
      "Collecting fast-simplification"
     ]
    },
    {
     "name": "stderr",
     "output_type": "stream",
     "text": [
      "WARNING: Ignoring invalid distribution - (c:\\users\\82707\\appdata\\local\\programs\\python\\python39\\lib\\site-packages)\n",
      "WARNING: Ignoring invalid distribution -rotobuf (c:\\users\\82707\\appdata\\local\\programs\\python\\python39\\lib\\site-packages)\n",
      "WARNING: Ignoring invalid distribution - (c:\\users\\82707\\appdata\\local\\programs\\python\\python39\\lib\\site-packages)\n",
      "WARNING: Ignoring invalid distribution -rotobuf (c:\\users\\82707\\appdata\\local\\programs\\python\\python39\\lib\\site-packages)\n",
      "  WARNING: Failed to remove contents in a temporary directory 'C:\\Users\\82707\\AppData\\Local\\Programs\\Python\\Python39\\Lib\\site-packages\\~umpy.libs'.\n",
      "  You can safely remove it manually.\n",
      "  WARNING: Failed to remove contents in a temporary directory 'C:\\Users\\82707\\AppData\\Local\\Programs\\Python\\Python39\\Lib\\site-packages\\~umpy'.\n",
      "  You can safely remove it manually.\n",
      "WARNING: Ignoring invalid distribution - (c:\\users\\82707\\appdata\\local\\programs\\python\\python39\\lib\\site-packages)\n",
      "WARNING: Ignoring invalid distribution -rotobuf (c:\\users\\82707\\appdata\\local\\programs\\python\\python39\\lib\\site-packages)\n",
      "ERROR: pip's dependency resolver does not currently take into account all the packages that are installed. This behaviour is the source of the following dependency conflicts.\n",
      "tensorboard 2.10.1 requires protobuf<3.20,>=3.9.2, but you have protobuf 3.20.0 which is incompatible.\n",
      "tensorflow-gpu 2.10.1 requires protobuf<3.20,>=3.9.2, but you have protobuf 3.20.0 which is incompatible.\n",
      "\n",
      "[notice] A new release of pip is available: 21.1.3 -> 24.3.1\n",
      "[notice] To update, run: C:\\Users\\82707\\AppData\\Local\\Programs\\Python\\Python39\\python.exe -m pip install --upgrade pip\n"
     ]
    },
    {
     "name": "stdout",
     "output_type": "stream",
     "text": [
      "\n",
      "  Downloading fast_simplification-0.1.9-cp39-cp39-win_amd64.whl.metadata (10.0 kB)\n",
      "Collecting numpy>=2.0 (from fast-simplification)\n",
      "  Using cached numpy-2.0.2-cp39-cp39-win_amd64.whl.metadata (59 kB)\n",
      "Downloading fast_simplification-0.1.9-cp39-cp39-win_amd64.whl (213 kB)\n",
      "Using cached numpy-2.0.2-cp39-cp39-win_amd64.whl (15.9 MB)\n",
      "Installing collected packages: numpy, fast-simplification\n",
      "  Attempting uninstall: numpy\n",
      "    Found existing installation: numpy 1.26.4\n",
      "    Uninstalling numpy-1.26.4:\n",
      "      Successfully uninstalled numpy-1.26.4\n",
      "Successfully installed fast-simplification-0.1.9 numpy-2.0.2\n"
     ]
    }
   ],
   "source": [
    "!pip --python C:\\Users\\82707\\AppData\\Local\\Programs\\Python\\Python39\\python.exe install \"pyvista[jupyter]\" \n",
    "!pip --python C:\\Users\\82707\\AppData\\Local\\Programs\\Python\\Python39\\python.exe install pyacvd\n",
    "!pip --python C:\\Users\\82707\\AppData\\Local\\Programs\\Python\\Python39\\python.exe install meshio\n",
    "!pip --python C:\\Users\\82707\\AppData\\Local\\Programs\\Python\\Python39\\python.exe install trimesh\n",
    "!pip --python C:\\Users\\82707\\AppData\\Local\\Programs\\Python\\Python39\\python.exe install fast-simplification\n"
   ]
  },
  {
   "cell_type": "code",
   "execution_count": 1,
   "id": "db8d5cf8",
   "metadata": {},
   "outputs": [],
   "source": [
    "import pyacvd\n",
    "import meshio\n",
    "import pyvista as pv"
   ]
  },
  {
   "cell_type": "code",
   "execution_count": 17,
   "id": "aa866838",
   "metadata": {},
   "outputs": [],
   "source": [
    "# mesh = meshio.read('surface_mesh_but.stl')\n",
    "segmentation = 'segmentation_ll_reduced.ply'\n",
    "mesh = pv.read(segmentation)"
   ]
  },
  {
   "cell_type": "code",
   "execution_count": 18,
   "id": "e526e336",
   "metadata": {},
   "outputs": [
    {
     "data": {
      "text/html": [
       "\n",
       "<table style='width: 100%;'>\n",
       "<tr><th>PolyData</th><th>Information</th></tr>\n",
       "<tr><td>N Cells</td><td>300</td></tr>\n",
       "<tr><td>N Points</td><td>148</td></tr>\n",
       "<tr><td>N Strips</td><td>0</td></tr>\n",
       "<tr><td>X Bounds</td><td>-1.822e+01, 1.337e+01</td></tr>\n",
       "<tr><td>Y Bounds</td><td>2.032e+01, 1.262e+02</td></tr>\n",
       "<tr><td>Z Bounds</td><td>-1.644e+02, -5.925e+01</td></tr>\n",
       "<tr><td>N Arrays</td><td>0</td></tr>\n",
       "</table>\n",
       "\n"
      ],
      "text/plain": [
       "PolyData (0x1c9e93bfbe0)\n",
       "  N Cells:    300\n",
       "  N Points:   148\n",
       "  N Strips:   0\n",
       "  X Bounds:   -1.822e+01, 1.337e+01\n",
       "  Y Bounds:   2.032e+01, 1.262e+02\n",
       "  Z Bounds:   -1.644e+02, -5.925e+01\n",
       "  N Arrays:   0"
      ]
     },
     "execution_count": 18,
     "metadata": {},
     "output_type": "execute_result"
    }
   ],
   "source": [
    "mesh"
   ]
  },
  {
   "cell_type": "code",
   "execution_count": 19,
   "id": "e3712d97",
   "metadata": {},
   "outputs": [],
   "source": [
    "pv.set_jupyter_backend('trame')"
   ]
  },
  {
   "cell_type": "code",
   "execution_count": 20,
   "id": "680f79c5",
   "metadata": {},
   "outputs": [
    {
     "data": {
      "application/vnd.jupyter.widget-view+json": {
       "model_id": "7e3d1dc174a4431cb71aadf107193ab3",
       "version_major": 2,
       "version_minor": 0
      },
      "text/plain": [
       "Widget(value='<iframe src=\"http://localhost:13288/index.html?ui=P_0x1c9bb989460_3&reconnect=auto\" class=\"pyvis…"
      ]
     },
     "metadata": {},
     "output_type": "display_data"
    }
   ],
   "source": [
    "mesh.plot(show_edges=True, color='w')"
   ]
  },
  {
   "cell_type": "code",
   "execution_count": 6,
   "id": "685fc900",
   "metadata": {},
   "outputs": [],
   "source": [
    "clus = pyacvd.Clustering(mesh)\n",
    "# mesh is not dense enough for uniform remeshing\n",
    "clus.subdivide(3)\n",
    "clus.cluster(200)\n",
    "\n",
    "# plot clustered cow mesh\n",
    "clus.plot()"
   ]
  },
  {
   "cell_type": "code",
   "execution_count": 7,
   "id": "fc4a3478",
   "metadata": {},
   "outputs": [
    {
     "data": {
      "application/vnd.jupyter.widget-view+json": {
       "model_id": "93b9ca3170a7417aa96e229aab40e000",
       "version_major": 2,
       "version_minor": 0
      },
      "text/plain": [
       "Widget(value='<iframe src=\"http://localhost:13288/index.html?ui=P_0x1c9a1488730_1&reconnect=auto\" class=\"pyvis…"
      ]
     },
     "metadata": {},
     "output_type": "display_data"
    }
   ],
   "source": [
    "remesh = clus.create_mesh()\n",
    "remesh.plot(color='w', show_edges=True)"
   ]
  },
  {
   "cell_type": "code",
   "execution_count": 8,
   "id": "c4f2dfbc",
   "metadata": {},
   "outputs": [
    {
     "data": {
      "text/html": [
       "\n",
       "<table style='width: 100%;'>\n",
       "<tr><th>PolyData</th><th>Information</th></tr>\n",
       "<tr><td>N Cells</td><td>393</td></tr>\n",
       "<tr><td>N Points</td><td>200</td></tr>\n",
       "<tr><td>N Strips</td><td>0</td></tr>\n",
       "<tr><td>X Bounds</td><td>-1.717e+01, 1.260e+01</td></tr>\n",
       "<tr><td>Y Bounds</td><td>2.082e+01, 1.261e+02</td></tr>\n",
       "<tr><td>Z Bounds</td><td>-1.644e+02, -5.907e+01</td></tr>\n",
       "<tr><td>N Arrays</td><td>0</td></tr>\n",
       "</table>\n",
       "\n"
      ],
      "text/plain": [
       "PolyData (0x1c9a263afa0)\n",
       "  N Cells:    393\n",
       "  N Points:   200\n",
       "  N Strips:   0\n",
       "  X Bounds:   -1.717e+01, 1.260e+01\n",
       "  Y Bounds:   2.082e+01, 1.261e+02\n",
       "  Z Bounds:   -1.644e+02, -5.907e+01\n",
       "  N Arrays:   0"
      ]
     },
     "execution_count": 8,
     "metadata": {},
     "output_type": "execute_result"
    }
   ],
   "source": [
    "remesh"
   ]
  },
  {
   "cell_type": "code",
   "execution_count": 9,
   "id": "5073b719",
   "metadata": {},
   "outputs": [],
   "source": [
    "file_name = segmentation.split('.')[0] + '_mesh.ply'\n",
    "# pv.save_meshio(file_name, remesh)"
   ]
  },
  {
   "cell_type": "markdown",
   "id": "ee47c0f4",
   "metadata": {},
   "source": [
    "## Decimate a mesh to a target number of triangles"
   ]
  },
  {
   "cell_type": "code",
   "execution_count": 3,
   "id": "49448719",
   "metadata": {},
   "outputs": [],
   "source": [
    "import trimesh\n",
    "import pyvista as pv"
   ]
  },
  {
   "cell_type": "code",
   "execution_count": 16,
   "id": "ee90a137",
   "metadata": {
    "scrolled": true
   },
   "outputs": [],
   "source": [
    "# function to visualize a mesh and print its properties\n",
    "def visualize_mesh(mesh, info=False, color='w'):\n",
    "    mesh = pv.read(mesh)\n",
    "    mesh.plot(show_edges=True, color=color)\n",
    "    \n",
    "    if info:\n",
    "        print(mesh)\n",
    "\n",
    "# function to decimate a given mesh in to a target number of triangles\n",
    "def decimate(input_mesh, target_faces, output_mesh):\n",
    "    mesh = trimesh.load_mesh(input_mesh)\n",
    "\n",
    "    # Decimate the mesh\n",
    "    decimated_mesh = mesh.simplify_quadric_decimation(target_faces)\n",
    "\n",
    "    # Write the decimated mesh to a new .ply file\n",
    "    decimated_mesh.export(output_mesh)\n",
    "    \n",
    "    return \"Successfully decimated the mesh\""
   ]
  },
  {
   "cell_type": "code",
   "execution_count": 8,
   "id": "982334a5",
   "metadata": {},
   "outputs": [
    {
     "data": {
      "application/vnd.jupyter.widget-view+json": {
       "model_id": "5d89a5291b0d4d06b6916a6b29dfacb3",
       "version_major": 2,
       "version_minor": 0
      },
      "text/plain": [
       "Widget(value='<iframe src=\"http://localhost:1944/index.html?ui=P_0x1ebaf18bb20_3&reconnect=auto\" class=\"pyvist…"
      ]
     },
     "metadata": {},
     "output_type": "display_data"
    },
    {
     "name": "stdout",
     "output_type": "stream",
     "text": [
      "PolyData (0x1ebb27ff700)\n",
      "  N Cells:    14396\n",
      "  N Points:   7200\n",
      "  N Strips:   0\n",
      "  X Bounds:   -2.430e+01, 1.874e+01\n",
      "  Y Bounds:   2.188e+01, 1.248e+02\n",
      "  Z Bounds:   -1.615e+02, -5.586e+01\n",
      "  N Arrays:   1\n"
     ]
    }
   ],
   "source": [
    "# read segmentation mesh and display it\n",
    "segmentation = 'segmentation_aa.ply'\n",
    "target_faces = 300\n",
    "\n",
    "visualize_mesh(segmentation, info=True)"
   ]
  },
  {
   "cell_type": "code",
   "execution_count": 7,
   "id": "31d5aced-192e-49ae-99c9-c65c5560110c",
   "metadata": {},
   "outputs": [
    {
     "data": {
      "application/vnd.jupyter.widget-view+json": {
       "model_id": "ce671660dc7241d1bc0d3cc61c339950",
       "version_major": 2,
       "version_minor": 0
      },
      "text/plain": [
       "Widget(value='<iframe src=\"http://localhost:1944/index.html?ui=P_0x1ebb26e6970_2&reconnect=auto\" class=\"pyvist…"
      ]
     },
     "metadata": {},
     "output_type": "display_data"
    },
    {
     "name": "stdout",
     "output_type": "stream",
     "text": [
      "PolyData (0x1ebaf163d00)\n",
      "  N Cells:    11120\n",
      "  N Points:   5558\n",
      "  N Strips:   0\n",
      "  X Bounds:   -1.791e+01, 1.277e+01\n",
      "  Y Bounds:   2.042e+01, 1.262e+02\n",
      "  Z Bounds:   -1.647e+02, -5.906e+01\n",
      "  N Arrays:   1\n"
     ]
    }
   ],
   "source": [
    "# read segmentation mesh and display it\n",
    "segmentation = 'segmentation_ll.ply'\n",
    "target_faces = 100\n",
    "\n",
    "visualize_mesh(segmentation, info=True)"
   ]
  },
  {
   "cell_type": "code",
   "execution_count": 17,
   "id": "dfc2aec1-63af-4598-bcda-6b99fbf001d4",
   "metadata": {},
   "outputs": [
    {
     "data": {
      "application/vnd.jupyter.widget-view+json": {
       "model_id": "fbb07e1bfbaa464193919a6d4ef0bf51",
       "version_major": 2,
       "version_minor": 0
      },
      "text/plain": [
       "Widget(value='<iframe src=\"http://localhost:1944/index.html?ui=P_0x1ebbc594e50_8&reconnect=auto\" class=\"pyvist…"
      ]
     },
     "metadata": {},
     "output_type": "display_data"
    },
    {
     "name": "stdout",
     "output_type": "stream",
     "text": [
      "PolyData (0x1ebba4cebe0)\n",
      "  N Cells:    20100\n",
      "  N Points:   10048\n",
      "  N Strips:   0\n",
      "  X Bounds:   -2.281e+01, 2.106e+01\n",
      "  Y Bounds:   1.884e+01, 1.439e+02\n",
      "  Z Bounds:   -1.615e+02, -5.811e+01\n",
      "  N Arrays:   1\n"
     ]
    },
    {
     "ename": "ValueError",
     "evalue": "``target_reduction`` must be between 0 and 1",
     "output_type": "error",
     "traceback": [
      "\u001b[1;31m---------------------------------------------------------------------------\u001b[0m",
      "\u001b[1;31mValueError\u001b[0m                                Traceback (most recent call last)",
      "Cell \u001b[1;32mIn[17], line 8\u001b[0m\n\u001b[0;32m      6\u001b[0m \u001b[38;5;66;03m# decimate the segmented mesh into target number of triangles\u001b[39;00m\n\u001b[0;32m      7\u001b[0m output_mesh \u001b[38;5;241m=\u001b[39m segmentation\u001b[38;5;241m.\u001b[39msplit(\u001b[38;5;124m'\u001b[39m\u001b[38;5;124m.\u001b[39m\u001b[38;5;124m'\u001b[39m)[\u001b[38;5;241m0\u001b[39m] \u001b[38;5;241m+\u001b[39m \u001b[38;5;124m'\u001b[39m\u001b[38;5;124m_mesh_\u001b[39m\u001b[38;5;124m'\u001b[39m \u001b[38;5;241m+\u001b[39m \u001b[38;5;28mstr\u001b[39m(target_faces) \u001b[38;5;241m+\u001b[39m \u001b[38;5;124m'\u001b[39m\u001b[38;5;124m.ply\u001b[39m\u001b[38;5;124m'\u001b[39m\n\u001b[1;32m----> 8\u001b[0m \u001b[43mdecimate\u001b[49m\u001b[43m(\u001b[49m\u001b[43msegmentation\u001b[49m\u001b[43m,\u001b[49m\u001b[43m \u001b[49m\u001b[43mtarget_faces\u001b[49m\u001b[43m,\u001b[49m\u001b[43m \u001b[49m\u001b[43moutput_mesh\u001b[49m\u001b[43m)\u001b[49m\n",
      "Cell \u001b[1;32mIn[16], line 14\u001b[0m, in \u001b[0;36mdecimate\u001b[1;34m(input_mesh, target_faces, output_mesh)\u001b[0m\n\u001b[0;32m     11\u001b[0m mesh \u001b[38;5;241m=\u001b[39m trimesh\u001b[38;5;241m.\u001b[39mload_mesh(input_mesh)\n\u001b[0;32m     13\u001b[0m \u001b[38;5;66;03m# Decimate the mesh\u001b[39;00m\n\u001b[1;32m---> 14\u001b[0m decimated_mesh \u001b[38;5;241m=\u001b[39m \u001b[43mmesh\u001b[49m\u001b[38;5;241;43m.\u001b[39;49m\u001b[43msimplify_quadric_decimation\u001b[49m\u001b[43m(\u001b[49m\u001b[43mtarget_faces\u001b[49m\u001b[43m)\u001b[49m\n\u001b[0;32m     16\u001b[0m \u001b[38;5;66;03m# Write the decimated mesh to a new .ply file\u001b[39;00m\n\u001b[0;32m     17\u001b[0m decimated_mesh\u001b[38;5;241m.\u001b[39mexport(output_mesh)\n",
      "File \u001b[1;32mc:\\users\\82707\\appdata\\local\\programs\\python\\python39\\lib\\site-packages\\trimesh\\base.py:2578\u001b[0m, in \u001b[0;36mTrimesh.simplify_quadric_decimation\u001b[1;34m(self, percent, face_count, aggression)\u001b[0m\n\u001b[0;32m   2570\u001b[0m kwargs \u001b[38;5;241m=\u001b[39m {\n\u001b[0;32m   2571\u001b[0m     \u001b[38;5;124m\"\u001b[39m\u001b[38;5;124mtarget_count\u001b[39m\u001b[38;5;124m\"\u001b[39m: face_count,\n\u001b[0;32m   2572\u001b[0m     \u001b[38;5;124m\"\u001b[39m\u001b[38;5;124mtarget_reduction\u001b[39m\u001b[38;5;124m\"\u001b[39m: percent,\n\u001b[0;32m   2573\u001b[0m     \u001b[38;5;124m\"\u001b[39m\u001b[38;5;124magg\u001b[39m\u001b[38;5;124m\"\u001b[39m: aggression,\n\u001b[0;32m   2574\u001b[0m }\n\u001b[0;32m   2576\u001b[0m \u001b[38;5;66;03m# todo : one could take the `return_collapses=True` array and use it to\u001b[39;00m\n\u001b[0;32m   2577\u001b[0m \u001b[38;5;66;03m# apply the same simplification to the visual info\u001b[39;00m\n\u001b[1;32m-> 2578\u001b[0m vertices, faces \u001b[38;5;241m=\u001b[39m simplify(\n\u001b[0;32m   2579\u001b[0m     points\u001b[38;5;241m=\u001b[39m\u001b[38;5;28mself\u001b[39m\u001b[38;5;241m.\u001b[39mvertices\u001b[38;5;241m.\u001b[39mview(np\u001b[38;5;241m.\u001b[39mndarray),\n\u001b[0;32m   2580\u001b[0m     triangles\u001b[38;5;241m=\u001b[39m\u001b[38;5;28mself\u001b[39m\u001b[38;5;241m.\u001b[39mfaces\u001b[38;5;241m.\u001b[39mview(np\u001b[38;5;241m.\u001b[39mndarray),\n\u001b[0;32m   2581\u001b[0m     \u001b[38;5;241m*\u001b[39m\u001b[38;5;241m*\u001b[39m{k: v \u001b[38;5;28;01mfor\u001b[39;00m k, v \u001b[38;5;129;01min\u001b[39;00m kwargs\u001b[38;5;241m.\u001b[39mitems() \u001b[38;5;28;01mif\u001b[39;00m v \u001b[38;5;129;01mis\u001b[39;00m \u001b[38;5;129;01mnot\u001b[39;00m \u001b[38;5;28;01mNone\u001b[39;00m},\n\u001b[0;32m   2582\u001b[0m )\n\u001b[0;32m   2584\u001b[0m \u001b[38;5;28;01mreturn\u001b[39;00m Trimesh(vertices\u001b[38;5;241m=\u001b[39mvertices, faces\u001b[38;5;241m=\u001b[39mfaces)\n",
      "File \u001b[1;32mc:\\users\\82707\\appdata\\local\\programs\\python\\python39\\lib\\site-packages\\fast_simplification\\utils.py:21\u001b[0m, in \u001b[0;36mascontiguous.<locals>.wrapper\u001b[1;34m(*args, **kwargs)\u001b[0m\n\u001b[0;32m     18\u001b[0m     \u001b[38;5;28;01mif\u001b[39;00m \u001b[38;5;28misinstance\u001b[39m(value, np\u001b[38;5;241m.\u001b[39mndarray):\n\u001b[0;32m     19\u001b[0m         kwargs[key] \u001b[38;5;241m=\u001b[39m np\u001b[38;5;241m.\u001b[39mascontiguousarray(value)\n\u001b[1;32m---> 21\u001b[0m \u001b[38;5;28;01mreturn\u001b[39;00m func(\u001b[38;5;241m*\u001b[39margs, \u001b[38;5;241m*\u001b[39m\u001b[38;5;241m*\u001b[39mkwargs)\n",
      "File \u001b[1;32mc:\\users\\82707\\appdata\\local\\programs\\python\\python39\\lib\\site-packages\\fast_simplification\\simplify.py:131\u001b[0m, in \u001b[0;36msimplify\u001b[1;34m(points, triangles, target_reduction, target_count, agg, verbose, return_collapses)\u001b[0m\n\u001b[0;32m    128\u001b[0m     \u001b[38;5;28;01mraise\u001b[39;00m \u001b[38;5;167;01mValueError\u001b[39;00m(\u001b[38;5;124mf\u001b[39m\u001b[38;5;124m\"\u001b[39m\u001b[38;5;124mExpected ``triangles`` array to be (n, 3), not \u001b[39m\u001b[38;5;132;01m{\u001b[39;00mtriangles\u001b[38;5;241m.\u001b[39mshape\u001b[38;5;132;01m}\u001b[39;00m\u001b[38;5;124m\"\u001b[39m)\n\u001b[0;32m    130\u001b[0m n_faces \u001b[38;5;241m=\u001b[39m triangles\u001b[38;5;241m.\u001b[39mshape[\u001b[38;5;241m0\u001b[39m]\n\u001b[1;32m--> 131\u001b[0m target_count \u001b[38;5;241m=\u001b[39m \u001b[43m_check_args\u001b[49m\u001b[43m(\u001b[49m\u001b[43mtarget_reduction\u001b[49m\u001b[43m,\u001b[49m\u001b[43m \u001b[49m\u001b[43mtarget_count\u001b[49m\u001b[43m,\u001b[49m\u001b[43m \u001b[49m\u001b[43mn_faces\u001b[49m\u001b[43m)\u001b[49m\n\u001b[0;32m    133\u001b[0m \u001b[38;5;28;01mif\u001b[39;00m \u001b[38;5;129;01mnot\u001b[39;00m triangles\u001b[38;5;241m.\u001b[39mflags\u001b[38;5;241m.\u001b[39mc_contiguous:\n\u001b[0;32m    134\u001b[0m     triangles \u001b[38;5;241m=\u001b[39m np\u001b[38;5;241m.\u001b[39mascontiguousarray(triangles)\n",
      "File \u001b[1;32mc:\\users\\82707\\appdata\\local\\programs\\python\\python39\\lib\\site-packages\\fast_simplification\\simplify.py:20\u001b[0m, in \u001b[0;36m_check_args\u001b[1;34m(target_reduction, target_count, n_faces)\u001b[0m\n\u001b[0;32m     18\u001b[0m \u001b[38;5;28;01mif\u001b[39;00m target_reduction \u001b[38;5;129;01mis\u001b[39;00m \u001b[38;5;129;01mnot\u001b[39;00m \u001b[38;5;28;01mNone\u001b[39;00m:\n\u001b[0;32m     19\u001b[0m     \u001b[38;5;28;01mif\u001b[39;00m target_reduction \u001b[38;5;241m>\u001b[39m \u001b[38;5;241m1\u001b[39m \u001b[38;5;129;01mor\u001b[39;00m target_reduction \u001b[38;5;241m<\u001b[39m \u001b[38;5;241m0\u001b[39m:\n\u001b[1;32m---> 20\u001b[0m         \u001b[38;5;28;01mraise\u001b[39;00m \u001b[38;5;167;01mValueError\u001b[39;00m(\u001b[38;5;124m\"\u001b[39m\u001b[38;5;124m``target_reduction`` must be between 0 and 1\u001b[39m\u001b[38;5;124m\"\u001b[39m)\n\u001b[0;32m     21\u001b[0m     target_count \u001b[38;5;241m=\u001b[39m (\u001b[38;5;241m1\u001b[39m \u001b[38;5;241m-\u001b[39m target_reduction) \u001b[38;5;241m*\u001b[39m n_faces\n\u001b[0;32m     23\u001b[0m \u001b[38;5;28;01mif\u001b[39;00m target_count \u001b[38;5;241m<\u001b[39m \u001b[38;5;241m0\u001b[39m:\n",
      "\u001b[1;31mValueError\u001b[0m: ``target_reduction`` must be between 0 and 1"
     ]
    }
   ],
   "source": [
    "segmentation = 'segmentation_oo.ply'\n",
    "target_faces = 1000\n",
    "\n",
    "visualize_mesh(segmentation, info=True)\n",
    "\n",
    "# decimate the segmented mesh into target number of triangles\n",
    "output_mesh = segmentation.split('.')[0] + '_mesh_' + str(target_faces) + '.ply'\n",
    "decimate(segmentation, target_faces, output_mesh)"
   ]
  },
  {
   "cell_type": "code",
   "execution_count": 15,
   "id": "c27a7d95",
   "metadata": {},
   "outputs": [
    {
     "data": {
      "text/plain": [
       "ValueError('``target_reduction`` must be between 0 and 1')"
      ]
     },
     "execution_count": 15,
     "metadata": {},
     "output_type": "execute_result"
    }
   ],
   "source": [
    "# decimate the segmented mesh into target number of triangles\n",
    "output_mesh = segmentation.split('.')[0] + '_mesh_' + str(target_faces) + '.ply'\n",
    "decimate(segmentation, target_faces, output_mesh)"
   ]
  },
  {
   "cell_type": "code",
   "execution_count": 16,
   "id": "42a362f4",
   "metadata": {},
   "outputs": [
    {
     "ename": "FileNotFoundError",
     "evalue": "File (segmentation_aa_mesh_300.ply) not found",
     "output_type": "error",
     "traceback": [
      "\u001b[1;31m---------------------------------------------------------------------------\u001b[0m",
      "\u001b[1;31mFileNotFoundError\u001b[0m                         Traceback (most recent call last)",
      "Cell \u001b[1;32mIn[16], line 2\u001b[0m\n\u001b[0;32m      1\u001b[0m \u001b[38;5;66;03m# read and display the decimated mesh\u001b[39;00m\n\u001b[1;32m----> 2\u001b[0m \u001b[43mvisualize_mesh\u001b[49m\u001b[43m(\u001b[49m\u001b[43moutput_mesh\u001b[49m\u001b[43m,\u001b[49m\u001b[43m \u001b[49m\u001b[43minfo\u001b[49m\u001b[38;5;241;43m=\u001b[39;49m\u001b[38;5;28;43;01mTrue\u001b[39;49;00m\u001b[43m)\u001b[49m\n",
      "Cell \u001b[1;32mIn[13], line 3\u001b[0m, in \u001b[0;36mvisualize_mesh\u001b[1;34m(mesh, info, color)\u001b[0m\n\u001b[0;32m      2\u001b[0m \u001b[38;5;28;01mdef\u001b[39;00m \u001b[38;5;21mvisualize_mesh\u001b[39m(mesh, info\u001b[38;5;241m=\u001b[39m\u001b[38;5;28;01mFalse\u001b[39;00m, color\u001b[38;5;241m=\u001b[39m\u001b[38;5;124m'\u001b[39m\u001b[38;5;124mw\u001b[39m\u001b[38;5;124m'\u001b[39m):\n\u001b[1;32m----> 3\u001b[0m     mesh \u001b[38;5;241m=\u001b[39m \u001b[43mpv\u001b[49m\u001b[38;5;241;43m.\u001b[39;49m\u001b[43mread\u001b[49m\u001b[43m(\u001b[49m\u001b[43mmesh\u001b[49m\u001b[43m)\u001b[49m\n\u001b[0;32m      4\u001b[0m     mesh\u001b[38;5;241m.\u001b[39mplot(show_edges\u001b[38;5;241m=\u001b[39m\u001b[38;5;28;01mTrue\u001b[39;00m, color\u001b[38;5;241m=\u001b[39mcolor)\n\u001b[0;32m      6\u001b[0m     \u001b[38;5;28;01mif\u001b[39;00m info:\n",
      "File \u001b[1;32mc:\\users\\82707\\appdata\\local\\programs\\python\\python39\\lib\\site-packages\\pyvista\\core\\utilities\\fileio.py:175\u001b[0m, in \u001b[0;36mread\u001b[1;34m(filename, force_ext, file_format, progress_bar)\u001b[0m\n\u001b[0;32m    173\u001b[0m filename \u001b[38;5;241m=\u001b[39m Path(filename)\u001b[38;5;241m.\u001b[39mexpanduser()\u001b[38;5;241m.\u001b[39mresolve()\n\u001b[0;32m    174\u001b[0m \u001b[38;5;28;01mif\u001b[39;00m \u001b[38;5;129;01mnot\u001b[39;00m filename\u001b[38;5;241m.\u001b[39mis_file() \u001b[38;5;129;01mand\u001b[39;00m \u001b[38;5;129;01mnot\u001b[39;00m filename\u001b[38;5;241m.\u001b[39mis_dir():\n\u001b[1;32m--> 175\u001b[0m     \u001b[38;5;28;01mraise\u001b[39;00m \u001b[38;5;167;01mFileNotFoundError\u001b[39;00m(\u001b[38;5;124mf\u001b[39m\u001b[38;5;124m'\u001b[39m\u001b[38;5;124mFile (\u001b[39m\u001b[38;5;132;01m{\u001b[39;00mfilename\u001b[38;5;132;01m}\u001b[39;00m\u001b[38;5;124m) not found\u001b[39m\u001b[38;5;124m'\u001b[39m)\n\u001b[0;32m    177\u001b[0m \u001b[38;5;66;03m# Read file using meshio.read if file_format is present\u001b[39;00m\n\u001b[0;32m    178\u001b[0m \u001b[38;5;28;01mif\u001b[39;00m file_format:\n",
      "\u001b[1;31mFileNotFoundError\u001b[0m: File (segmentation_aa_mesh_300.ply) not found"
     ]
    }
   ],
   "source": [
    "# read and display the decimated mesh\n",
    "visualize_mesh(output_mesh, info=True)"
   ]
  },
  {
   "cell_type": "code",
   "execution_count": 18,
   "id": "42a51246-954c-4bec-8b9b-64a99e8d626a",
   "metadata": {},
   "outputs": [],
   "source": [
    "import trimesh\n",
    "import pyvista as pv\n",
    "\n",
    "def visualize_mesh(mesh, info=False, color='w'):\n",
    "    \"\"\"可视化网格\"\"\"\n",
    "    mesh = pv.read(mesh)\n",
    "    mesh.plot(show_edges=True, color=color)\n",
    "    \n",
    "    if info:\n",
    "        print(mesh)\n",
    "\n",
    "def decimate(input_mesh, target_faces, output_mesh):\n",
    "    \"\"\"将网格简化到目标面片数\"\"\"\n",
    "    try:\n",
    "        # 加载网格\n",
    "        mesh = trimesh.load_mesh(input_mesh)\n",
    "        print(f\"Original mesh faces: {len(mesh.faces)}\")\n",
    "        \n",
    "        # 计算目标比例\n",
    "        reduction_ratio = 1.0 - (float(target_faces) / len(mesh.faces))\n",
    "        \n",
    "        # 确保比例在0到1之间\n",
    "        reduction_ratio = max(0.0, min(0.99, reduction_ratio))\n",
    "        print(f\"Reduction ratio: {reduction_ratio:.3f}\")\n",
    "        \n",
    "        # 简化网格\n",
    "        decimated_mesh = mesh.simplify_quadric_decimation(reduction_ratio)\n",
    "        print(f\"Decimated mesh faces: {len(decimated_mesh.faces)}\")\n",
    "        \n",
    "        # 保存简化后的网格\n",
    "        decimated_mesh.export(output_mesh)\n",
    "        \n",
    "        return \"Successfully decimated the mesh\"\n",
    "    \n",
    "    except Exception as e:\n",
    "        return f\"Error during decimation: {str(e)}\"\n",
    "\n",
    "def process_mesh(input_mesh, target_faces):\n",
    "    \"\"\"处理网格的完整流程\"\"\"\n",
    "    print(f\"\\nProcessing mesh: {input_mesh}\")\n",
    "    \n",
    "    # 显示原始网格信息\n",
    "    print(\"\\nOriginal mesh:\")\n",
    "    visualize_mesh(input_mesh, info=True)\n",
    "    \n",
    "    # 创建输出文件名\n",
    "    output_mesh = input_mesh.split('.')[0] + f'_reduced_{target_faces}.ply'\n",
    "    \n",
    "    # 执行简化\n",
    "    print(\"\\nDecimating mesh...\")\n",
    "    result = decimate(input_mesh, target_faces, output_mesh)\n",
    "    print(result)\n",
    "    \n",
    "    # 显示简化后的网格\n",
    "    if \"Successfully\" in result:\n",
    "        print(\"\\nDecimated mesh:\")\n",
    "        visualize_mesh(output_mesh, info=True)\n",
    "        \n",
    "        # 计算并显示简化率\n",
    "        original_mesh = trimesh.load_mesh(input_mesh)\n",
    "        decimated_mesh = trimesh.load_mesh(output_mesh)\n",
    "        reduction = (1 - len(decimated_mesh.faces)/len(original_mesh.faces)) * 100\n",
    "        print(f\"\\nActual reduction: {reduction:.1f}%\")\n",
    "    \n",
    "    return output_mesh"
   ]
  },
  {
   "cell_type": "code",
   "execution_count": 21,
   "id": "33d8d19c-159a-4c91-8b73-f89f4930322e",
   "metadata": {},
   "outputs": [
    {
     "name": "stdout",
     "output_type": "stream",
     "text": [
      "\n",
      "Processing mesh: segmentation_ll.ply\n",
      "\n",
      "Original mesh:\n"
     ]
    },
    {
     "data": {
      "application/vnd.jupyter.widget-view+json": {
       "model_id": "bccea5b56d35465ba3b8bcf9f82c9ba7",
       "version_major": 2,
       "version_minor": 0
      },
      "text/plain": [
       "Widget(value='<iframe src=\"http://localhost:1944/index.html?ui=P_0x1ec0229ba30_13&reconnect=auto\" class=\"pyvis…"
      ]
     },
     "metadata": {},
     "output_type": "display_data"
    },
    {
     "name": "stdout",
     "output_type": "stream",
     "text": [
      "PolyData (0x1ec2065b880)\n",
      "  N Cells:    11120\n",
      "  N Points:   5558\n",
      "  N Strips:   0\n",
      "  X Bounds:   -1.791e+01, 1.277e+01\n",
      "  Y Bounds:   2.042e+01, 1.262e+02\n",
      "  Z Bounds:   -1.647e+02, -5.906e+01\n",
      "  N Arrays:   1\n",
      "\n",
      "Decimating mesh...\n",
      "Original mesh faces: 11120\n",
      "Reduction ratio: 0.910\n",
      "Decimated mesh faces: 1000\n",
      "Successfully decimated the mesh\n",
      "\n",
      "Decimated mesh:\n"
     ]
    },
    {
     "data": {
      "application/vnd.jupyter.widget-view+json": {
       "model_id": "dbd4eb7eef1e49b38f5e10a3eb8bb04f",
       "version_major": 2,
       "version_minor": 0
      },
      "text/plain": [
       "Widget(value='<iframe src=\"http://localhost:1944/index.html?ui=P_0x1ec2065c2b0_14&reconnect=auto\" class=\"pyvis…"
      ]
     },
     "metadata": {},
     "output_type": "display_data"
    },
    {
     "name": "stdout",
     "output_type": "stream",
     "text": [
      "PolyData (0x1ec230aa100)\n",
      "  N Cells:    1000\n",
      "  N Points:   499\n",
      "  N Strips:   0\n",
      "  X Bounds:   -1.785e+01, 1.271e+01\n",
      "  Y Bounds:   2.041e+01, 1.261e+02\n",
      "  Z Bounds:   -1.648e+02, -5.909e+01\n",
      "  N Arrays:   0\n",
      "\n",
      "Actual reduction: 91.0%\n"
     ]
    }
   ],
   "source": [
    "segmentation = 'segmentation_ll.ply'\n",
    "target_faces = 1000\n",
    "reduced_mesh = process_mesh(segmentation, target_faces)"
   ]
  },
  {
   "cell_type": "code",
   "execution_count": 22,
   "id": "afca3302-d397-4019-88c4-ccc0f6803c68",
   "metadata": {},
   "outputs": [
    {
     "name": "stdout",
     "output_type": "stream",
     "text": [
      "Collecting cycler==0.10.0 (from -r ../requirements.txt (line 1))\n",
      "  Downloading cycler-0.10.0-py2.py3-none-any.whl.metadata (722 bytes)\n",
      "Collecting decorator==4.4.1 (from -r ../requirements.txt (line 2))\n",
      "  Downloading decorator-4.4.1-py2.py3-none-any.whl.metadata (4.2 kB)\n",
      "Collecting imageio==2.6.1 (from -r ../requirements.txt (line 3))\n",
      "  Downloading imageio-2.6.1-py3-none-any.whl.metadata (2.8 kB)\n",
      "Collecting kiwisolver==1.1.0 (from -r ../requirements.txt (line 4))\n",
      "  Downloading kiwisolver-1.1.0.tar.gz (30 kB)\n",
      "  Preparing metadata (setup.py): started\n",
      "  Preparing metadata (setup.py): finished with status 'done'\n",
      "Collecting matplotlib==3.1.2 (from -r ../requirements.txt (line 5))\n",
      "  Downloading matplotlib-3.1.2.tar.gz (40.9 MB)\n",
      "     ---------------------------------------- 0.0/40.9 MB ? eta -:--:--\n",
      "     --- ------------------------------------ 3.1/40.9 MB 14.2 MB/s eta 0:00:03\n",
      "     ------ --------------------------------- 6.6/40.9 MB 15.5 MB/s eta 0:00:03\n",
      "     --------- ----------------------------- 10.0/40.9 MB 15.9 MB/s eta 0:00:02\n",
      "     ------------ -------------------------- 13.4/40.9 MB 16.1 MB/s eta 0:00:02\n",
      "     ---------------- ---------------------- 17.0/40.9 MB 16.5 MB/s eta 0:00:02\n",
      "     ------------------- ------------------- 20.7/40.9 MB 16.4 MB/s eta 0:00:02\n",
      "     ---------------------- ---------------- 23.9/40.9 MB 16.2 MB/s eta 0:00:02\n",
      "     ------------------------- ------------- 27.3/40.9 MB 16.5 MB/s eta 0:00:01\n",
      "     ----------------------------- --------- 30.7/40.9 MB 16.4 MB/s eta 0:00:01\n",
      "     -------------------------------- ------ 34.1/40.9 MB 16.4 MB/s eta 0:00:01\n",
      "     ----------------------------------- --- 37.7/40.9 MB 16.4 MB/s eta 0:00:01\n",
      "     --------------------------------------  40.9/40.9 MB 16.6 MB/s eta 0:00:01\n",
      "     --------------------------------------- 40.9/40.9 MB 16.1 MB/s eta 0:00:00\n",
      "  Preparing metadata (setup.py): started\n",
      "  Preparing metadata (setup.py): finished with status 'done'\n",
      "Collecting networkx==2.4 (from -r ../requirements.txt (line 6))\n",
      "  Downloading networkx-2.4-py3-none-any.whl.metadata (4.9 kB)\n",
      "Collecting numpy==1.18.0 (from -r ../requirements.txt (line 7))\n",
      "  Downloading numpy-1.18.0.zip (5.4 MB)\n",
      "     ---------------------------------------- 0.0/5.4 MB ? eta -:--:--\n",
      "     --------------------------- ------------ 3.7/5.4 MB 18.1 MB/s eta 0:00:01\n",
      "     ---------------------------------------- 5.4/5.4 MB 16.5 MB/s eta 0:00:00\n",
      "  Installing build dependencies: started\n",
      "  Installing build dependencies: finished with status 'done'\n",
      "  Getting requirements to build wheel: started\n",
      "  Getting requirements to build wheel: finished with status 'done'\n",
      "  Preparing metadata (pyproject.toml): started\n",
      "  Preparing metadata (pyproject.toml): finished with status 'error'\n"
     ]
    },
    {
     "name": "stderr",
     "output_type": "stream",
     "text": [
      "WARNING: Ignoring invalid distribution - (c:\\users\\82707\\appdata\\local\\programs\\python\\python39\\lib\\site-packages)\n",
      "WARNING: Ignoring invalid distribution -rotobuf (c:\\users\\82707\\appdata\\local\\programs\\python\\python39\\lib\\site-packages)\n",
      "  error: subprocess-exited-with-error\n",
      "  \n",
      "  Preparing metadata (pyproject.toml) did not run successfully.\n",
      "  exit code: 1\n",
      "  \n",
      "  [24 lines of output]\n",
      "  Running from numpy source directory.\n",
      "  <string>:425: UserWarning: Unrecognized setuptools command, proceeding with generating Cython sources and expanding templates\n",
      "  Traceback (most recent call last):\n",
      "    File \"C:\\Python312\\Lib\\site-packages\\pip\\_vendor\\pyproject_hooks\\_in_process\\_in_process.py\", line 353, in <module>\n",
      "      main()\n",
      "    File \"C:\\Python312\\Lib\\site-packages\\pip\\_vendor\\pyproject_hooks\\_in_process\\_in_process.py\", line 335, in main\n",
      "      json_out['return_val'] = hook(**hook_input['kwargs'])\n",
      "    File \"C:\\Python312\\Lib\\site-packages\\pip\\_vendor\\pyproject_hooks\\_in_process\\_in_process.py\", line 149, in prepare_metadata_for_build_wheel\n",
      "      return hook(metadata_directory, config_settings)\n",
      "    File \"C:\\Users\\82707\\AppData\\Local\\Temp\\pip-build-env-49jnd_hn\\overlay\\Lib\\site-packages\\setuptools\\build_meta.py\", line 376, in prepare_metadata_for_build_wheel\n",
      "      self.run_setup()\n",
      "    File \"C:\\Users\\82707\\AppData\\Local\\Temp\\pip-build-env-49jnd_hn\\overlay\\Lib\\site-packages\\setuptools\\build_meta.py\", line 521, in run_setup\n",
      "      super().run_setup(setup_script=setup_script)\n",
      "    File \"C:\\Users\\82707\\AppData\\Local\\Temp\\pip-build-env-49jnd_hn\\overlay\\Lib\\site-packages\\setuptools\\build_meta.py\", line 319, in run_setup\n",
      "      exec(code, locals())\n",
      "    File \"<string>\", line 450, in <module>\n",
      "    File \"<string>\", line 429, in setup_package\n",
      "    File \"C:\\Users\\82707\\AppData\\Local\\Temp\\pip-install-mdqow4v_\\numpy_7569c5e3fd1d455299a48fd16b3477cb\\numpy\\distutils\\core.py\", line 26, in <module>\n",
      "      from numpy.distutils.command import config, config_compiler, \\\n",
      "    File \"C:\\Users\\82707\\AppData\\Local\\Temp\\pip-install-mdqow4v_\\numpy_7569c5e3fd1d455299a48fd16b3477cb\\numpy\\distutils\\command\\config.py\", line 20, in <module>\n",
      "      from numpy.distutils.mingw32ccompiler import generate_manifest\n",
      "    File \"C:\\Users\\82707\\AppData\\Local\\Temp\\pip-install-mdqow4v_\\numpy_7569c5e3fd1d455299a48fd16b3477cb\\numpy\\distutils\\mingw32ccompiler.py\", line 34, in <module>\n",
      "      from distutils.msvccompiler import get_build_version as get_build_msvc_version\n",
      "  ModuleNotFoundError: No module named 'distutils.msvccompiler'\n",
      "  [end of output]\n",
      "  \n",
      "  note: This error originates from a subprocess, and is likely not a problem with pip.\n",
      "\n",
      "[notice] A new release of pip is available: 21.1.3 -> 24.3.1\n",
      "[notice] To update, run: C:\\Users\\82707\\AppData\\Local\\Programs\\Python\\Python39\\python.exe -m pip install --upgrade pip\n",
      "error: metadata-generation-failed\n",
      "\n",
      "Encountered error while generating package metadata.\n",
      "\n",
      "See above for output.\n",
      "\n",
      "note: This is an issue with the package mentioned above, not pip.\n",
      "hint: See above for details.\n"
     ]
    }
   ],
   "source": [
    "!pip --python C:\\Users\\82707\\AppData\\Local\\Programs\\Python\\Python39\\python.exe install -r ../requirements.txt"
   ]
  },
  {
   "cell_type": "code",
   "execution_count": null,
   "id": "c2c0bddf-c0ed-4f9f-93f3-2fc1235e20a1",
   "metadata": {},
   "outputs": [],
   "source": []
  }
 ],
 "metadata": {
  "kernelspec": {
   "display_name": "Python 3 (ipykernel)",
   "language": "python",
   "name": "python3"
  },
  "language_info": {
   "codemirror_mode": {
    "name": "ipython",
    "version": 3
   },
   "file_extension": ".py",
   "mimetype": "text/x-python",
   "name": "python",
   "nbconvert_exporter": "python",
   "pygments_lexer": "ipython3",
   "version": "3.9.6"
  },
  "nbTranslate": {
   "displayLangs": [
    "*"
   ],
   "hotkey": "alt-t",
   "langInMainMenu": true,
   "sourceLang": "en",
   "targetLang": "fr",
   "useGoogleTranslate": true
  }
 },
 "nbformat": 4,
 "nbformat_minor": 5
}
