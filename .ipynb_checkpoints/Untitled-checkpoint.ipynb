{
 "cells": [
  {
   "cell_type": "code",
   "execution_count": 3,
   "id": "0a1852eb-a085-431b-a2e7-b5a2ad1fb1b0",
   "metadata": {},
   "outputs": [],
   "source": [
    "import numpy as np\n",
    "import trimesh\n",
    "import pyvista as pv\n",
    "from scipy.spatial import KDTree\n",
    "import torch\n",
    "import torch.nn as nn\n",
    "import torch.optim as optim\n",
    "import os"
   ]
  },
  {
   "cell_type": "code",
   "execution_count": 4,
   "id": "549871ed-41f9-4561-a3d2-d3784314ac88",
   "metadata": {},
   "outputs": [],
   "source": [
    "source_mesh = \"TractProjection/segmentation_aa_reduced.ply\"\n",
    "target_mesh = \"TractProjection/segmentation_ll_reduced.ply\""
   ]
  },
  {
   "cell_type": "code",
   "execution_count": 7,
   "id": "3cd30ead-805d-400a-a628-15e607deb370",
   "metadata": {},
   "outputs": [],
   "source": [
    "class KernelFunction:\n",
    "    def __init__(self, sigma=1.0):\n",
    "        self.sigma = sigma\n",
    "    \n",
    "    def gaussian_kernel(self, x1, x2):\n",
    "        \"\"\"计算两组点之间的高斯核\"\"\"\n",
    "        dist = torch.cdist(x1, x2)\n",
    "        return torch.exp(-dist**2 / (2 * self.sigma**2))"
   ]
  },
  {
   "cell_type": "code",
   "execution_count": 8,
   "id": "2c644362-af21-46d3-9fc6-5f564a0653fc",
   "metadata": {},
   "outputs": [],
   "source": [
    "class LDDMM:\n",
    "    def __init__(self, source_mesh, target_mesh, num_timesteps=10, sigma=1.0, alpha=1.0):\n",
    "        # 加载网格\n",
    "        print(\"Loading meshes...\")\n",
    "        self.source = trimesh.load_mesh(source_mesh)\n",
    "        self.target = trimesh.load_mesh(target_mesh)\n",
    "        \n",
    "        print(f\"\\nSource mesh: {len(self.source.vertices)} vertices, {len(self.source.faces)} faces\")\n",
    "        print(f\"Target mesh: {len(self.target.vertices)} vertices, {len(self.target.faces)} faces\")\n",
    "        \n",
    "        self.num_timesteps = num_timesteps\n",
    "        self.kernel = KernelFunction(sigma)\n",
    "        self.alpha = alpha\n",
    "        \n",
    "        # 转换为torch张量\n",
    "        self.source_vertices = torch.tensor(self.source.vertices, dtype=torch.float32)\n",
    "        self.target_vertices = torch.tensor(self.target.vertices, dtype=torch.float32)\n",
    "        \n",
    "        # 初始化动量向量\n",
    "        self.momentum = nn.Parameter(torch.zeros_like(self.source_vertices))\n",
    "    \n",
    "    def forward_flow(self):\n",
    "        \"\"\"计算顶点的前向流动\"\"\"\n",
    "        vertices = self.source_vertices.clone()\n",
    "        trajectories = [vertices.clone()]\n",
    "        \n",
    "        for t in range(self.num_timesteps):\n",
    "            # 使用核函数计算速度场\n",
    "            velocity = self.kernel.gaussian_kernel(vertices, vertices) @ self.momentum\n",
    "            # 使用欧拉积分更新位置\n",
    "            vertices = vertices + velocity * (1.0 / self.num_timesteps)\n",
    "            trajectories.append(vertices.clone())\n",
    "        \n",
    "        return trajectories\n",
    "    \n",
    "    def compute_loss(self, final_vertices):\n",
    "        \"\"\"计算变形后的网格与目标网格之间的损失\"\"\"\n",
    "        # 计算最终状态与目标之间的距离\n",
    "        matching_loss = torch.mean(torch.min(torch.cdist(final_vertices, self.target_vertices), dim=1)[0])\n",
    "        # 动量的正则化\n",
    "        reg_loss = self.alpha * torch.sum(self.momentum**2)\n",
    "        return matching_loss + reg_loss\n",
    "    \n",
    "    def optimize(self, num_iterations=100, learning_rate=0.1):\n",
    "        \"\"\"优化动量向量\"\"\"\n",
    "        optimizer = optim.Adam([self.momentum], lr=learning_rate)\n",
    "        \n",
    "        for i in range(num_iterations):\n",
    "            optimizer.zero_grad()\n",
    "            trajectories = self.forward_flow()\n",
    "            final_vertices = trajectories[-1]\n",
    "            loss = self.compute_loss(final_vertices)\n",
    "            loss.backward()\n",
    "            optimizer.step()\n",
    "            \n",
    "            if (i + 1) % 10 == 0:\n",
    "                print(f'Iteration {i+1}/{num_iterations}, Loss: {loss.item():.4f}')\n",
    "        \n",
    "        return trajectories"
   ]
  },
  {
   "cell_type": "code",
   "execution_count": 9,
   "id": "e5d9f15d-0d21-4dd6-8374-04e4f76f45ff",
   "metadata": {},
   "outputs": [],
   "source": [
    "def create_interpolated_mesh(vertices, faces, output_file):\n",
    "    \"\"\"创建并保存插值网格\"\"\"\n",
    "    mesh = trimesh.Trimesh(vertices=vertices.detach().numpy(), faces=faces)\n",
    "    mesh.export(output_file)\n",
    "    return mesh"
   ]
  },
  {
   "cell_type": "code",
   "execution_count": 10,
   "id": "0f418ca7-d209-47dc-bfcb-79bfa490d187",
   "metadata": {},
   "outputs": [],
   "source": [
    "def morph_vocal_tracts(source_mesh_path, target_mesh_path, output_prefix, num_frames=10):\n",
    "    \"\"\"执行声道形状变形的主函数\"\"\"\n",
    "    print(\"Initializing LDDMM...\")\n",
    "    lddmm = LDDMM(source_mesh_path, target_mesh_path)\n",
    "    \n",
    "    print(\"\\nOptimizing transformation...\")\n",
    "    trajectories = lddmm.optimize()\n",
    "    \n",
    "    print(\"\\nCreating interpolated meshes...\")\n",
    "    source_mesh = trimesh.load_mesh(source_mesh_path)\n",
    "    faces = source_mesh.faces\n",
    "    \n",
    "    interpolated_meshes = []\n",
    "    for i, vertices in enumerate(trajectories):\n",
    "        output_file = f\"{output_prefix}_frame_{i:03d}.ply\"\n",
    "        mesh = create_interpolated_mesh(vertices, faces, output_file)\n",
    "        interpolated_meshes.append(mesh)\n",
    "        print(f\"Created frame {i+1}/{len(trajectories)}\")\n",
    "    \n",
    "    return interpolated_meshes"
   ]
  },
  {
   "cell_type": "code",
   "execution_count": 11,
   "id": "a8efb778-0bed-428a-bfb5-00feca73ce23",
   "metadata": {},
   "outputs": [],
   "source": [
    "def visualize_morphing(meshes):\n",
    "    \"\"\"使用PyVista可视化变形序列\"\"\"\n",
    "    print(\"Visualizing morphing sequence...\")\n",
    "    plotter = pv.Plotter()\n",
    "    \n",
    "    for i, mesh in enumerate(meshes):\n",
    "        print(f\"Showing frame {i+1}/{len(meshes)}\")\n",
    "        pv_mesh = pv.wrap(mesh)\n",
    "        plotter.add_mesh(pv_mesh, show_edges=True)\n",
    "        plotter.show()\n",
    "        plotter.clear()"
   ]
  },
  {
   "cell_type": "code",
   "execution_count": 12,
   "id": "03ec60c6-22ee-4596-9d7a-5bcb1c12954f",
   "metadata": {},
   "outputs": [],
   "source": [
    "source_mesh = \"TractProjection/segmentation_aa_reduced.ply\"\n",
    "target_mesh = \"TractProjection/segmentation_ll_reduced.ply\"\n",
    "output_prefix = \"morphing_result\""
   ]
  },
  {
   "cell_type": "code",
   "execution_count": 13,
   "id": "2c692204-468d-4989-b572-bf1ca0683a15",
   "metadata": {},
   "outputs": [
    {
     "name": "stdout",
     "output_type": "stream",
     "text": [
      "Initializing LDDMM...\n",
      "Loading meshes...\n",
      "\n",
      "Source mesh: 152 vertices, 300 faces\n",
      "Target mesh: 148 vertices, 300 faces\n",
      "\n",
      "Optimizing transformation...\n",
      "Iteration 10/100, Loss: 5.9000\n",
      "Iteration 20/100, Loss: 4.7440\n",
      "Iteration 30/100, Loss: 4.7278\n",
      "Iteration 40/100, Loss: 4.7363\n",
      "Iteration 50/100, Loss: 4.7100\n",
      "Iteration 60/100, Loss: 4.6963\n",
      "Iteration 70/100, Loss: 4.6907\n",
      "Iteration 80/100, Loss: 4.6890\n",
      "Iteration 90/100, Loss: 4.6889\n",
      "Iteration 100/100, Loss: 4.6889\n",
      "\n",
      "Creating interpolated meshes...\n",
      "Created frame 1/11\n",
      "Created frame 2/11\n",
      "Created frame 3/11\n",
      "Created frame 4/11\n",
      "Created frame 5/11\n",
      "Created frame 6/11\n",
      "Created frame 7/11\n",
      "Created frame 8/11\n",
      "Created frame 9/11\n",
      "Created frame 10/11\n",
      "Created frame 11/11\n"
     ]
    }
   ],
   "source": [
    "morphed_meshes = morph_vocal_tracts(source_mesh, target_mesh, output_prefix)"
   ]
  },
  {
   "cell_type": "code",
   "execution_count": 14,
   "id": "4f587b43-6cea-4152-8c25-ceb0bfe02f23",
   "metadata": {},
   "outputs": [
    {
     "name": "stdout",
     "output_type": "stream",
     "text": [
      "Visualizing morphing sequence...\n",
      "Showing frame 1/11\n"
     ]
    },
    {
     "data": {
      "application/vnd.jupyter.widget-view+json": {
       "model_id": "89e19a543a3544119e769bdaa455d978",
       "version_major": 2,
       "version_minor": 0
      },
      "text/plain": [
       "Widget(value='<iframe src=\"http://localhost:14584/index.html?ui=P_0x25788c370d0_1&reconnect=auto\" class=\"pyvis…"
      ]
     },
     "metadata": {},
     "output_type": "display_data"
    },
    {
     "name": "stdout",
     "output_type": "stream",
     "text": [
      "Showing frame 2/11\n",
      "A view with name (P_0x25788c370d0_1) is already registered\n",
      " => returning previous one\n"
     ]
    },
    {
     "data": {
      "application/vnd.jupyter.widget-view+json": {
       "model_id": "bf3aac88eebd4d5f9032f928903e811b",
       "version_major": 2,
       "version_minor": 0
      },
      "text/plain": [
       "Widget(value='<iframe src=\"http://localhost:14584/index.html?ui=P_0x25788c370d0_1&reconnect=auto\" class=\"pyvis…"
      ]
     },
     "metadata": {},
     "output_type": "display_data"
    },
    {
     "name": "stdout",
     "output_type": "stream",
     "text": [
      "Showing frame 3/11\n",
      "A view with name (P_0x25788c370d0_1) is already registered\n",
      " => returning previous one\n"
     ]
    },
    {
     "data": {
      "application/vnd.jupyter.widget-view+json": {
       "model_id": "5590b51e876e431b898a76ba98d6ad28",
       "version_major": 2,
       "version_minor": 0
      },
      "text/plain": [
       "Widget(value='<iframe src=\"http://localhost:14584/index.html?ui=P_0x25788c370d0_1&reconnect=auto\" class=\"pyvis…"
      ]
     },
     "metadata": {},
     "output_type": "display_data"
    },
    {
     "name": "stdout",
     "output_type": "stream",
     "text": [
      "Showing frame 4/11\n",
      "A view with name (P_0x25788c370d0_1) is already registered\n",
      " => returning previous one\n"
     ]
    },
    {
     "data": {
      "application/vnd.jupyter.widget-view+json": {
       "model_id": "e8a72371ae0c40118a618f7bf2b6d3dd",
       "version_major": 2,
       "version_minor": 0
      },
      "text/plain": [
       "Widget(value='<iframe src=\"http://localhost:14584/index.html?ui=P_0x25788c370d0_1&reconnect=auto\" class=\"pyvis…"
      ]
     },
     "metadata": {},
     "output_type": "display_data"
    },
    {
     "name": "stdout",
     "output_type": "stream",
     "text": [
      "Showing frame 5/11\n",
      "A view with name (P_0x25788c370d0_1) is already registered\n",
      " => returning previous one\n"
     ]
    },
    {
     "data": {
      "application/vnd.jupyter.widget-view+json": {
       "model_id": "37018863994c4bc9b208127cadcf2750",
       "version_major": 2,
       "version_minor": 0
      },
      "text/plain": [
       "Widget(value='<iframe src=\"http://localhost:14584/index.html?ui=P_0x25788c370d0_1&reconnect=auto\" class=\"pyvis…"
      ]
     },
     "metadata": {},
     "output_type": "display_data"
    },
    {
     "name": "stdout",
     "output_type": "stream",
     "text": [
      "Showing frame 6/11\n",
      "A view with name (P_0x25788c370d0_1) is already registered\n",
      " => returning previous one\n"
     ]
    },
    {
     "data": {
      "application/vnd.jupyter.widget-view+json": {
       "model_id": "79343b88c75e4f489f60658bcd57f995",
       "version_major": 2,
       "version_minor": 0
      },
      "text/plain": [
       "Widget(value='<iframe src=\"http://localhost:14584/index.html?ui=P_0x25788c370d0_1&reconnect=auto\" class=\"pyvis…"
      ]
     },
     "metadata": {},
     "output_type": "display_data"
    },
    {
     "name": "stdout",
     "output_type": "stream",
     "text": [
      "Showing frame 7/11\n",
      "A view with name (P_0x25788c370d0_1) is already registered\n",
      " => returning previous one\n"
     ]
    },
    {
     "data": {
      "application/vnd.jupyter.widget-view+json": {
       "model_id": "43f087c355444e6d8115a784eaf1ec90",
       "version_major": 2,
       "version_minor": 0
      },
      "text/plain": [
       "Widget(value='<iframe src=\"http://localhost:14584/index.html?ui=P_0x25788c370d0_1&reconnect=auto\" class=\"pyvis…"
      ]
     },
     "metadata": {},
     "output_type": "display_data"
    },
    {
     "name": "stdout",
     "output_type": "stream",
     "text": [
      "Showing frame 8/11\n",
      "A view with name (P_0x25788c370d0_1) is already registered\n",
      " => returning previous one\n"
     ]
    },
    {
     "data": {
      "application/vnd.jupyter.widget-view+json": {
       "model_id": "c438ca2e441643f0bf5b51fb814822c7",
       "version_major": 2,
       "version_minor": 0
      },
      "text/plain": [
       "Widget(value='<iframe src=\"http://localhost:14584/index.html?ui=P_0x25788c370d0_1&reconnect=auto\" class=\"pyvis…"
      ]
     },
     "metadata": {},
     "output_type": "display_data"
    },
    {
     "name": "stdout",
     "output_type": "stream",
     "text": [
      "Showing frame 9/11\n",
      "A view with name (P_0x25788c370d0_1) is already registered\n",
      " => returning previous one\n"
     ]
    },
    {
     "data": {
      "application/vnd.jupyter.widget-view+json": {
       "model_id": "490e855bd9d6454b98fe7f5cf6deaf06",
       "version_major": 2,
       "version_minor": 0
      },
      "text/plain": [
       "Widget(value='<iframe src=\"http://localhost:14584/index.html?ui=P_0x25788c370d0_1&reconnect=auto\" class=\"pyvis…"
      ]
     },
     "metadata": {},
     "output_type": "display_data"
    },
    {
     "name": "stdout",
     "output_type": "stream",
     "text": [
      "Showing frame 10/11\n",
      "A view with name (P_0x25788c370d0_1) is already registered\n",
      " => returning previous one\n"
     ]
    },
    {
     "data": {
      "application/vnd.jupyter.widget-view+json": {
       "model_id": "0e06f3f69f914848b08af99680d4601d",
       "version_major": 2,
       "version_minor": 0
      },
      "text/plain": [
       "Widget(value='<iframe src=\"http://localhost:14584/index.html?ui=P_0x25788c370d0_1&reconnect=auto\" class=\"pyvis…"
      ]
     },
     "metadata": {},
     "output_type": "display_data"
    },
    {
     "name": "stdout",
     "output_type": "stream",
     "text": [
      "Showing frame 11/11\n",
      "A view with name (P_0x25788c370d0_1) is already registered\n",
      " => returning previous one\n"
     ]
    },
    {
     "data": {
      "application/vnd.jupyter.widget-view+json": {
       "model_id": "d13025cd647b4ca0ad2ce146e63e5fd7",
       "version_major": 2,
       "version_minor": 0
      },
      "text/plain": [
       "Widget(value='<iframe src=\"http://localhost:14584/index.html?ui=P_0x25788c370d0_1&reconnect=auto\" class=\"pyvis…"
      ]
     },
     "metadata": {},
     "output_type": "display_data"
    }
   ],
   "source": []
  },
  {
   "cell_type": "code",
   "execution_count": null,
   "id": "350e9402-839a-4c5d-b455-02f3d71f9d9d",
   "metadata": {},
   "outputs": [],
   "source": []
  }
 ],
 "metadata": {
  "kernelspec": {
   "display_name": "Python 3 (ipykernel)",
   "language": "python",
   "name": "python3"
  },
  "language_info": {
   "codemirror_mode": {
    "name": "ipython",
    "version": 3
   },
   "file_extension": ".py",
   "mimetype": "text/x-python",
   "name": "python",
   "nbconvert_exporter": "python",
   "pygments_lexer": "ipython3",
   "version": "3.9.6"
  }
 },
 "nbformat": 4,
 "nbformat_minor": 5
}
