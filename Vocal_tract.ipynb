{
 "cells": [
  {
   "cell_type": "code",
   "execution_count": 1,
   "id": "0a1852eb-a085-431b-a2e7-b5a2ad1fb1b0",
   "metadata": {},
   "outputs": [],
   "source": [
    "import numpy as np\n",
    "import trimesh\n",
    "import pyvista as pv\n",
    "from scipy.spatial import KDTree\n",
    "import torch\n",
    "import torch.nn as nn\n",
    "import torch.optim as optim\n",
    "import os\n",
    "import matplotlib.pyplot as plt"
   ]
  },
  {
   "cell_type": "code",
   "execution_count": 2,
   "id": "03ec60c6-22ee-4596-9d7a-5bcb1c12954f",
   "metadata": {},
   "outputs": [],
   "source": [
    "source_mesh = \"TractProjection/segmentation_aa_reduced_1000.ply\"\n",
    "target_mesh = \"TractProjection/segmentation_oo_reduced_1000.ply\"\n",
    "output_prefix = \"morphing_result\""
   ]
  },
  {
   "cell_type": "code",
   "execution_count": 3,
   "id": "db9fee95-8d4a-4628-accb-3c002b6e325c",
   "metadata": {},
   "outputs": [],
   "source": [
    "import numpy as np\n",
    "import trimesh\n",
    "import pyvista as pv\n",
    "from scipy.spatial import KDTree\n",
    "import os\n",
    "import matplotlib.pyplot as plt\n",
    "\n",
    "class LDDMMMapper:\n",
    "    def __init__(self, kernel_width=1.0, regularization=1.0):\n",
    "        self.kernel_width = kernel_width\n",
    "        self.regularization = regularization\n",
    "        self.momentum = None\n",
    "        self.control_points = None\n",
    "        \n",
    "    def gaussian_kernel(self, x, y):\n",
    "        \"\"\" K(x,y) = exp(-|x-y|^2 / (2*sigma^2))\"\"\"\n",
    "        dist_sq = np.sum((x[:, np.newaxis, :] - y[np.newaxis, :, :]) ** 2, axis=2)\n",
    "        return np.exp(-dist_sq / (2 * self.kernel_width ** 2))\n",
    "    \n",
    "    def compute_geodesic(self, source_points, target_points, num_timesteps=10, max_iter=10):\n",
    "        self.control_points = source_points.copy()\n",
    "        num_points = len(source_points)\n",
    "        \n",
    "        # init\n",
    "        self.momentum = np.zeros((num_points, 3))\n",
    "        \n",
    "        target_tree = KDTree(target_points)\n",
    "        \n",
    "        for iter in range(max_iter):\n",
    "            # fw\n",
    "            trajectory = self.integrate_forward(source_points)\n",
    "            end_points = trajectory[-1]\n",
    "            \n",
    "            distances, indices = target_tree.query(end_points)\n",
    "            current_target = target_points[indices]\n",
    "            \n",
    "            gradient = self.compute_gradient(trajectory, end_points, current_target)\n",
    "            step_size = 0.1 / (iter + 1)\n",
    "            self.momentum -= step_size * gradient\n",
    "            loss = np.mean(distances**2) + self.regularization * self.compute_momentum_norm()\n",
    "            \n",
    "            # if iter % 10 == 0:\n",
    "            print(f\"Iteration {iter}, Loss: {loss:.6f}\")\n",
    "                    \n",
    "        return trajectory\n",
    "    \n",
    "    def integrate_forward(self, points, num_steps=10):\n",
    "        dt = 1.0 / num_steps\n",
    "        current_points = points.copy()\n",
    "        trajectory = [current_points.copy()]\n",
    "        \n",
    "        for _ in range(num_steps):\n",
    "            # v\n",
    "            K = self.gaussian_kernel(current_points, self.control_points)\n",
    "            velocity = np.dot(K, self.momentum)\n",
    "            \n",
    "            # update position\n",
    "            current_points = current_points + dt * velocity\n",
    "            trajectory.append(current_points.copy())\n",
    "            \n",
    "        return trajectory\n",
    "    \n",
    "    def compute_gradient(self, trajectory, end_points, target_points):\n",
    "        data_gradient = end_points - target_points\n",
    "        \n",
    "        K = self.gaussian_kernel(self.control_points, self.control_points)\n",
    "        reg_gradient = 2 * self.regularization * np.dot(K, self.momentum)\n",
    "        \n",
    "        return data_gradient + reg_gradient\n",
    "    \n",
    "    def compute_momentum_norm(self):\n",
    "        K = self.gaussian_kernel(self.control_points, self.control_points)\n",
    "        return np.sum(self.momentum * np.dot(K, self.momentum))\n",
    "\n",
    "def load_and_normalize_mesh(mesh_path):\n",
    "    mesh = trimesh.load_mesh(mesh_path)\n",
    "    vertices = mesh.vertices\n",
    "    \n",
    "    # norm\n",
    "    center = np.mean(vertices, axis=0)\n",
    "    vertices = vertices - center\n",
    "    scale = np.max(np.abs(vertices))\n",
    "    vertices = vertices / scale\n",
    "    \n",
    "    return vertices, mesh.faces, center, scale"
   ]
  },
  {
   "cell_type": "code",
   "execution_count": null,
   "id": "d94463ef-d7f8-4a59-8bc5-998c2ef2cc8c",
   "metadata": {},
   "outputs": [
    {
     "name": "stdout",
     "output_type": "stream",
     "text": [
      "Source vertices: 501\n",
      "Target vertices: 498\n",
      "Iteration 0, Loss: 0.007641\n",
      "Iteration 1, Loss: 0.004659\n",
      "Iteration 2, Loss: 0.004352\n",
      "Iteration 3, Loss: 0.004278\n",
      "Iteration 4, Loss: 0.004272\n",
      "Iteration 5, Loss: 0.004293\n",
      "Iteration 6, Loss: 0.004308\n",
      "Iteration 7, Loss: 0.004326\n",
      "Iteration 8, Loss: 0.004344\n",
      "Iteration 9, Loss: 0.004362\n",
      "Creating 3D grid animation...\n",
      "Processing frame 0/10\n"
     ]
    },
    {
     "data": {
      "application/vnd.jupyter.widget-view+json": {
       "model_id": "91c976fb3f54481d8f1a38dd7b405f1d",
       "version_major": 2,
       "version_minor": 0
      },
      "text/plain": [
       "Widget(value='<iframe src=\"http://localhost:6029/index.html?ui=P_0x2523b1e4970_0&reconnect=auto\" class=\"pyvist…"
      ]
     },
     "metadata": {},
     "output_type": "display_data"
    },
    {
     "name": "stdout",
     "output_type": "stream",
     "text": [
      "Processing frame 1/10\n"
     ]
    },
    {
     "data": {
      "application/vnd.jupyter.widget-view+json": {
       "model_id": "dc2085af71a5439d80b6278f8d54b4c4",
       "version_major": 2,
       "version_minor": 0
      },
      "text/plain": [
       "Widget(value='<iframe src=\"http://localhost:6029/index.html?ui=P_0x252299bcfd0_0&reconnect=auto\" class=\"pyvist…"
      ]
     },
     "metadata": {},
     "output_type": "display_data"
    },
    {
     "name": "stdout",
     "output_type": "stream",
     "text": [
      "Processing frame 2/10\n"
     ]
    },
    {
     "data": {
      "application/vnd.jupyter.widget-view+json": {
       "model_id": "368fc7844bda4381b3ef62d7f6ea7d02",
       "version_major": 2,
       "version_minor": 0
      },
      "text/plain": [
       "Widget(value='<iframe src=\"http://localhost:6029/index.html?ui=P_0x25229a32b20_0&reconnect=auto\" class=\"pyvist…"
      ]
     },
     "metadata": {},
     "output_type": "display_data"
    },
    {
     "name": "stdout",
     "output_type": "stream",
     "text": [
      "Processing frame 3/10\n"
     ]
    },
    {
     "data": {
      "application/vnd.jupyter.widget-view+json": {
       "model_id": "e4167e057f544e3f9afeb20465157869",
       "version_major": 2,
       "version_minor": 0
      },
      "text/plain": [
       "Widget(value='<iframe src=\"http://localhost:6029/index.html?ui=P_0x252278e16a0_0&reconnect=auto\" class=\"pyvist…"
      ]
     },
     "metadata": {},
     "output_type": "display_data"
    },
    {
     "name": "stdout",
     "output_type": "stream",
     "text": [
      "Processing frame 4/10\n"
     ]
    },
    {
     "data": {
      "application/vnd.jupyter.widget-view+json": {
       "model_id": "03522ca6f77f4daea4f33f2fde46a7db",
       "version_major": 2,
       "version_minor": 0
      },
      "text/plain": [
       "Widget(value='<iframe src=\"http://localhost:6029/index.html?ui=P_0x2522773d1c0_0&reconnect=auto\" class=\"pyvist…"
      ]
     },
     "metadata": {},
     "output_type": "display_data"
    },
    {
     "name": "stdout",
     "output_type": "stream",
     "text": [
      "Processing frame 5/10\n"
     ]
    },
    {
     "data": {
      "application/vnd.jupyter.widget-view+json": {
       "model_id": "359eca034c59444791b3a5207eefbab0",
       "version_major": 2,
       "version_minor": 0
      },
      "text/plain": [
       "Widget(value='<iframe src=\"http://localhost:6029/index.html?ui=P_0x2522789de80_0&reconnect=auto\" class=\"pyvist…"
      ]
     },
     "metadata": {},
     "output_type": "display_data"
    },
    {
     "name": "stdout",
     "output_type": "stream",
     "text": [
      "Processing frame 6/10\n"
     ]
    },
    {
     "data": {
      "application/vnd.jupyter.widget-view+json": {
       "model_id": "db49b087bf5c42e2a04ab4b3a907c404",
       "version_major": 2,
       "version_minor": 0
      },
      "text/plain": [
       "Widget(value='<iframe src=\"http://localhost:6029/index.html?ui=P_0x2522d089700_0&reconnect=auto\" class=\"pyvist…"
      ]
     },
     "metadata": {},
     "output_type": "display_data"
    },
    {
     "name": "stdout",
     "output_type": "stream",
     "text": [
      "Processing frame 7/10\n"
     ]
    },
    {
     "data": {
      "application/vnd.jupyter.widget-view+json": {
       "model_id": "0a93325ce2f34b338117b9903933462c",
       "version_major": 2,
       "version_minor": 0
      },
      "text/plain": [
       "Widget(value='<iframe src=\"http://localhost:6029/index.html?ui=P_0x2522f3c4d90_0&reconnect=auto\" class=\"pyvist…"
      ]
     },
     "metadata": {},
     "output_type": "display_data"
    },
    {
     "name": "stdout",
     "output_type": "stream",
     "text": [
      "Processing frame 8/10\n"
     ]
    },
    {
     "data": {
      "application/vnd.jupyter.widget-view+json": {
       "model_id": "d26ad050dbda45489d2c0a85f7e2d22e",
       "version_major": 2,
       "version_minor": 0
      },
      "text/plain": [
       "Widget(value='<iframe src=\"http://localhost:6029/index.html?ui=P_0x2522f45feb0_0&reconnect=auto\" class=\"pyvist…"
      ]
     },
     "metadata": {},
     "output_type": "display_data"
    },
    {
     "name": "stdout",
     "output_type": "stream",
     "text": [
      "Processing frame 9/10\n"
     ]
    },
    {
     "data": {
      "application/vnd.jupyter.widget-view+json": {
       "model_id": "1c3ecc4e4574401baa59aac53627fc69",
       "version_major": 2,
       "version_minor": 0
      },
      "text/plain": [
       "Widget(value='<iframe src=\"http://localhost:6029/index.html?ui=P_0x2522f502ee0_0&reconnect=auto\" class=\"pyvist…"
      ]
     },
     "metadata": {},
     "output_type": "display_data"
    },
    {
     "name": "stdout",
     "output_type": "stream",
     "text": [
      "Processing frame 10/10\n"
     ]
    },
    {
     "data": {
      "application/vnd.jupyter.widget-view+json": {
       "model_id": "708eb90a35194c1589786e46d240bbe2",
       "version_major": 2,
       "version_minor": 0
      },
      "text/plain": [
       "Widget(value='<iframe src=\"http://localhost:6029/index.html?ui=P_0x2522f45ff40_0&reconnect=auto\" class=\"pyvist…"
      ]
     },
     "metadata": {},
     "output_type": "display_data"
    },
    {
     "name": "stdout",
     "output_type": "stream",
     "text": [
      "Saving animation...\n"
     ]
    }
   ],
   "source": [
    "import numpy as np\n",
    "import trimesh\n",
    "import pyvista as pv\n",
    "import matplotlib.pyplot as plt\n",
    "from matplotlib import animation\n",
    "from scipy.spatial import KDTree\n",
    "import imageio\n",
    "\n",
    "def convert_faces_to_pyvista(faces):\n",
    "    \"\"\"Convert faces from trimesh format to PyVista format\"\"\"\n",
    "    if faces.shape[1] == 3:\n",
    "        faces_pv = np.hstack((np.ones((faces.shape[0], 1), dtype=np.int64) * 3, \n",
    "                             faces))\n",
    "        return faces_pv.ravel()\n",
    "    return None\n",
    "\n",
    "def load_and_normalize_mesh(mesh_path):\n",
    "    \"\"\"Load and normalize mesh\"\"\"\n",
    "    mesh = trimesh.load_mesh(mesh_path)\n",
    "    vertices = mesh.vertices\n",
    "    center = np.mean(vertices, axis=0)\n",
    "    vertices = vertices - center\n",
    "    scale = np.max(np.abs(vertices))\n",
    "    vertices = vertices / scale\n",
    "    return vertices, mesh.faces, center, scale\n",
    "\n",
    "def compute_point_errors(source_points, target_points):\n",
    "    \"\"\"Calculate distances from points to their nearest target points\"\"\"\n",
    "    target_tree = KDTree(target_points)\n",
    "    distances, _ = target_tree.query(source_points)\n",
    "    return distances\n",
    "\n",
    "def create_3d_grid_visualization(mapper, trajectory, output_prefix, grid_size=20):\n",
    "    \"\"\"Create 3D deformation grid visualization\"\"\"\n",
    "    # Create 3D uniform grid\n",
    "    x = np.linspace(-1, 1, grid_size)\n",
    "    y = np.linspace(-1, 1, grid_size)\n",
    "    z = np.linspace(-1, 1, grid_size)\n",
    "    X, Y, Z = np.meshgrid(x, y, z)\n",
    "    grid_points = np.column_stack((X.ravel(), Y.ravel(), Z.ravel()))\n",
    "    \n",
    "    # Create grid connectivity\n",
    "    grid_lines = []\n",
    "    # Lines in X direction\n",
    "    for i in range(grid_size):\n",
    "        for j in range(grid_size):\n",
    "            for k in range(grid_size-1):\n",
    "                idx1 = i * grid_size * grid_size + j * grid_size + k\n",
    "                idx2 = i * grid_size * grid_size + j * grid_size + k + 1\n",
    "                grid_lines.append([idx1, idx2])\n",
    "    # Lines in Y direction\n",
    "    for i in range(grid_size):\n",
    "        for j in range(grid_size-1):\n",
    "            for k in range(grid_size):\n",
    "                idx1 = i * grid_size * grid_size + j * grid_size + k\n",
    "                idx2 = i * grid_size * grid_size + (j+1) * grid_size + k\n",
    "                grid_lines.append([idx1, idx2])\n",
    "    # Lines in Z direction\n",
    "    for i in range(grid_size-1):\n",
    "        for j in range(grid_size):\n",
    "            for k in range(grid_size):\n",
    "                idx1 = i * grid_size * grid_size + j * grid_size + k\n",
    "                idx2 = (i+1) * grid_size * grid_size + j * grid_size + k\n",
    "                grid_lines.append([idx1, idx2])\n",
    "    \n",
    "    grid_lines = np.array(grid_lines)\n",
    "    \n",
    "    # Create off-screen renderer\n",
    "    pv.OFF_SCREEN = True\n",
    "    \n",
    "    # Define camera views\n",
    "    views = {\n",
    "        'front': {'position': (0, -2, 0), 'up': (0, 0, 1)},\n",
    "        'side': {'position': (2, 0, 0), 'up': (0, 0, 1)},\n",
    "        'top': {'position': (0, 0, 2), 'up': (0, 1, 0)},\n",
    "        'isometric': {'position': (2, -2, 2), 'up': (0, 0, 1)}\n",
    "    }\n",
    "    \n",
    "    print(\"Creating 3D grid animation...\")\n",
    "    frames = []\n",
    "    \n",
    "    for frame in range(len(trajectory)):\n",
    "        print(f\"Processing frame {frame}/{len(trajectory)-1}\")\n",
    "        \n",
    "        # Calculate current frame grid points position\n",
    "        current_grid = grid_points.copy()\n",
    "        for _ in range(frame):\n",
    "            K = mapper.gaussian_kernel(current_grid, trajectory[0])\n",
    "            velocity = np.dot(K, mapper.momentum)\n",
    "            current_grid = current_grid + velocity * 0.1\n",
    "        \n",
    "        # Create visualization for current frame\n",
    "        p = pv.Plotter(off_screen=True, window_size=[1024, 768])\n",
    "        \n",
    "        # Add deformed grid\n",
    "        # Convert grid lines to PyVista format\n",
    "        grid_cells = []\n",
    "        for line in grid_lines:\n",
    "            grid_cells.extend([2, line[0], line[1]])\n",
    "        \n",
    "        # Create grid object\n",
    "        grid_poly = pv.PolyData(current_grid, lines=grid_cells)\n",
    "        \n",
    "        # Add source and target meshes\n",
    "        source_mesh = pv.PolyData(trajectory[frame], source_faces_pv)\n",
    "        target_mesh = pv.PolyData(target_vertices, target_faces_pv)\n",
    "        \n",
    "        # Set camera view\n",
    "        p.camera.position = views['isometric']['position']\n",
    "        p.camera.up = views['isometric']['up']\n",
    "        p.camera.focal_point = (0, 0, 0)\n",
    "        \n",
    "        # Add meshes to scene\n",
    "        p.add_mesh(grid_poly, color='black', line_width=1, opacity=0.3)\n",
    "        p.add_mesh(source_mesh, color='red', opacity=0.5)\n",
    "        p.add_mesh(target_mesh, color='blue', opacity=0.3)\n",
    "        \n",
    "        # Add frame counter\n",
    "        p.add_text(f'Frame: {frame}/{len(trajectory)-1}', position='upper_left', font_size=14)\n",
    "        \n",
    "        # Render and save frame\n",
    "        p.show(auto_close=False)\n",
    "        frames.append(p.screenshot(return_img=True))\n",
    "        p.close()\n",
    "    \n",
    "    # Save animation\n",
    "    print(\"Saving animation...\")\n",
    "    imageio.mimsave(f'{output_prefix}_3d_grid.gif', frames, fps=10)\n",
    "\n",
    "def save_static_views(mapper, trajectory, output_prefix):\n",
    "    \"\"\"Save static views from different angles\"\"\"\n",
    "    views = {\n",
    "        'front': {'position': (0, -2, 0), 'up': (0, 0, 1)},\n",
    "        'side': {'position': (2, 0, 0), 'up': (0, 0, 1)},\n",
    "        'top': {'position': (0, 0, 2), 'up': (0, 1, 0)},\n",
    "        'isometric': {'position': (2, -2, 2), 'up': (0, 0, 1)}\n",
    "    }\n",
    "    \n",
    "    for view_name, camera_params in views.items():\n",
    "        p = pv.Plotter(off_screen=True, window_size=[1024, 768])\n",
    "        \n",
    "        # Set camera\n",
    "        p.camera.position = camera_params['position']\n",
    "        p.camera.up = camera_params['up']\n",
    "        p.camera.focal_point = (0, 0, 0)\n",
    "        \n",
    "        # Add final deformation result\n",
    "        source_mesh = pv.PolyData(trajectory[-1], source_faces_pv)\n",
    "        target_mesh = pv.PolyData(target_vertices, target_faces_pv)\n",
    "        \n",
    "        p.add_mesh(source_mesh, color='red', opacity=0.5)\n",
    "        p.add_mesh(target_mesh, color='blue', opacity=0.3)\n",
    "        \n",
    "        p.add_text(f'{view_name.capitalize()} View', position='upper_left', font_size=14)\n",
    "        p.screenshot(f'{output_prefix}_{view_name}_view.png')\n",
    "        p.close()\n",
    "\n",
    "def visualize_transformation(source_path, target_path, output_prefix):\n",
    "    \"\"\"Main function: Execute LDDMM transformation and create visualization\"\"\"\n",
    "    global source_faces_pv, target_vertices, target_faces_pv\n",
    "    \n",
    "    # Load original data\n",
    "    source_vertices, source_faces, source_center, source_scale = load_and_normalize_mesh(source_path)\n",
    "    target_vertices, target_faces, target_center, target_scale = load_and_normalize_mesh(target_path)\n",
    "    \n",
    "    print(f\"Source vertices: {len(source_vertices)}\")\n",
    "    print(f\"Target vertices: {len(target_vertices)}\")\n",
    "    \n",
    "    # Create LDDMM mapper and compute deformation trajectory\n",
    "    mapper = LDDMMMapper(kernel_width=0.2, regularization=0.01)\n",
    "    trajectory = mapper.compute_geodesic(source_vertices, target_vertices)\n",
    "    \n",
    "    # Convert face format (convert in advance to avoid repeated computation)\n",
    "    source_faces_pv = convert_faces_to_pyvista(source_faces)\n",
    "    target_faces_pv = convert_faces_to_pyvista(target_faces)\n",
    "    \n",
    "    # Create 3D grid visualization\n",
    "    create_3d_grid_visualization(mapper, trajectory, output_prefix)\n",
    "    \n",
    "    # Save static views from different angles\n",
    "    save_static_views(mapper, trajectory, output_prefix)\n",
    "    \n",
    "    return trajectory, source_vertices, target_vertices\n",
    "\n",
    "if __name__ == \"__main__\":\n",
    "    source_mesh = \"TractProjection/segmentation_aa_reduced_1000.ply\"\n",
    "    target_mesh = \"TractProjection/segmentation_oo_reduced_1000.ply\"\n",
    "    output_prefix = \"morphing_result\"\n",
    "    \n",
    "    trajectory, source_vertices, target_vertices = visualize_transformation(\n",
    "        source_mesh, target_mesh, output_prefix)"
   ]
  },
  {
   "cell_type": "code",
   "execution_count": null,
   "id": "a321cf15-cbd8-4a11-9609-0bd988455a8b",
   "metadata": {},
   "outputs": [],
   "source": []
  },
  {
   "cell_type": "code",
   "execution_count": null,
   "id": "f62bf000-5df8-446d-bce3-b6931d5aa6b4",
   "metadata": {},
   "outputs": [],
   "source": []
  }
 ],
 "metadata": {
  "kernelspec": {
   "display_name": "Python 3 (ipykernel)",
   "language": "python",
   "name": "python3"
  },
  "language_info": {
   "codemirror_mode": {
    "name": "ipython",
    "version": 3
   },
   "file_extension": ".py",
   "mimetype": "text/x-python",
   "name": "python",
   "nbconvert_exporter": "python",
   "pygments_lexer": "ipython3",
   "version": "3.9.6"
  }
 },
 "nbformat": 4,
 "nbformat_minor": 5
}
